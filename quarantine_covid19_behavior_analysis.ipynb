{
  "nbformat": 4,
  "nbformat_minor": 0,
  "metadata": {
    "colab": {
      "name": "quarantine_covid19_behavior_analysis",
      "provenance": [],
      "collapsed_sections": [
        "xcgjMRwh6yfe",
        "FQ92bhg6VDuz"
      ],
      "mount_file_id": "1kofYesiQd6fnKQlHtO1hARhAwbaZS5eB",
      "authorship_tag": "ABX9TyPqgXnT7dmeSS9e3SCwiaHA",
      "include_colab_link": true
    },
    "kernelspec": {
      "name": "python3",
      "display_name": "Python 3"
    }
  },
  "cells": [
    {
      "cell_type": "markdown",
      "metadata": {
        "id": "view-in-github",
        "colab_type": "text"
      },
      "source": [
        "<a href=\"https://colab.research.google.com/github/marcelobenedito/quarantine_covid19_behavior_analysis/blob/master/quarantine_covid19_behavior_analysis.ipynb\" target=\"_parent\"><img src=\"https://colab.research.google.com/assets/colab-badge.svg\" alt=\"Open In Colab\"/></a>"
      ]
    },
    {
      "cell_type": "markdown",
      "metadata": {
        "id": "IoKhvChd0eNA"
      },
      "source": [
        "#**Quarantine Covid-19 behavior analysis**\n",
        "\n",
        "*It will be collect data tweets about COVID-19, quarantine and related about. This content will analysed to extract sentiment and main user behavior that makes don't stay home.*"
      ]
    },
    {
      "cell_type": "markdown",
      "metadata": {
        "id": "Gu4fYre7iTxl"
      },
      "source": [
        "## **1. Initial settings**"
      ]
    },
    {
      "cell_type": "markdown",
      "metadata": {
        "id": "k7uqUJtTtHyV"
      },
      "source": [
        "**Install libraries**"
      ]
    },
    {
      "cell_type": "code",
      "metadata": {
        "id": "md6SYud4tH9y",
        "outputId": "7ea5eaa9-76e3-4f91-b2c2-bd29b664e76f",
        "colab": {
          "base_uri": "https://localhost:8080/",
          "height": 309
        }
      },
      "source": [
        "!pip3 install unidecode\n",
        "!pip3 install emoji\n",
        "!pip3 install joblib"
      ],
      "execution_count": 16,
      "outputs": [
        {
          "output_type": "stream",
          "text": [
            "Collecting unidecode\n",
            "\u001b[?25l  Downloading https://files.pythonhosted.org/packages/d0/42/d9edfed04228bacea2d824904cae367ee9efd05e6cce7ceaaedd0b0ad964/Unidecode-1.1.1-py2.py3-none-any.whl (238kB)\n",
            "\r\u001b[K     |█▍                              | 10kB 27.0MB/s eta 0:00:01\r\u001b[K     |██▊                             | 20kB 5.4MB/s eta 0:00:01\r\u001b[K     |████▏                           | 30kB 6.7MB/s eta 0:00:01\r\u001b[K     |█████▌                          | 40kB 7.6MB/s eta 0:00:01\r\u001b[K     |██████▉                         | 51kB 6.0MB/s eta 0:00:01\r\u001b[K     |████████▎                       | 61kB 6.9MB/s eta 0:00:01\r\u001b[K     |█████████▋                      | 71kB 7.4MB/s eta 0:00:01\r\u001b[K     |███████████                     | 81kB 8.3MB/s eta 0:00:01\r\u001b[K     |████████████▍                   | 92kB 8.6MB/s eta 0:00:01\r\u001b[K     |█████████████▊                  | 102kB 8.2MB/s eta 0:00:01\r\u001b[K     |███████████████▏                | 112kB 8.2MB/s eta 0:00:01\r\u001b[K     |████████████████▌               | 122kB 8.2MB/s eta 0:00:01\r\u001b[K     |█████████████████▉              | 133kB 8.2MB/s eta 0:00:01\r\u001b[K     |███████████████████▎            | 143kB 8.2MB/s eta 0:00:01\r\u001b[K     |████████████████████▋           | 153kB 8.2MB/s eta 0:00:01\r\u001b[K     |██████████████████████          | 163kB 8.2MB/s eta 0:00:01\r\u001b[K     |███████████████████████▍        | 174kB 8.2MB/s eta 0:00:01\r\u001b[K     |████████████████████████▊       | 184kB 8.2MB/s eta 0:00:01\r\u001b[K     |██████████████████████████▏     | 194kB 8.2MB/s eta 0:00:01\r\u001b[K     |███████████████████████████▌    | 204kB 8.2MB/s eta 0:00:01\r\u001b[K     |████████████████████████████▉   | 215kB 8.2MB/s eta 0:00:01\r\u001b[K     |██████████████████████████████▎ | 225kB 8.2MB/s eta 0:00:01\r\u001b[K     |███████████████████████████████▋| 235kB 8.2MB/s eta 0:00:01\r\u001b[K     |████████████████████████████████| 245kB 8.2MB/s \n",
            "\u001b[?25hInstalling collected packages: unidecode\n",
            "Successfully installed unidecode-1.1.1\n",
            "Collecting emoji\n",
            "\u001b[?25l  Downloading https://files.pythonhosted.org/packages/ff/1c/1f1457fe52d0b30cbeebfd578483cedb3e3619108d2d5a21380dfecf8ffd/emoji-0.6.0.tar.gz (51kB)\n",
            "\u001b[K     |████████████████████████████████| 51kB 3.3MB/s \n",
            "\u001b[?25hBuilding wheels for collected packages: emoji\n",
            "  Building wheel for emoji (setup.py) ... \u001b[?25l\u001b[?25hdone\n",
            "  Created wheel for emoji: filename=emoji-0.6.0-cp36-none-any.whl size=49716 sha256=8aab6de9affae5051b93b1a23bf64647cf3d4ebb5f3f049677423559112fa21e\n",
            "  Stored in directory: /root/.cache/pip/wheels/46/2c/8b/9dcf5216ca68e14e0320e283692dce8ae321cdc01e73e17796\n",
            "Successfully built emoji\n",
            "Installing collected packages: emoji\n",
            "Successfully installed emoji-0.6.0\n",
            "Requirement already satisfied: joblib in /usr/local/lib/python3.6/dist-packages (0.16.0)\n"
          ],
          "name": "stdout"
        }
      ]
    },
    {
      "cell_type": "markdown",
      "metadata": {
        "id": "SWSeZqYvFjl3"
      },
      "source": [
        "**Required imports**"
      ]
    },
    {
      "cell_type": "code",
      "metadata": {
        "id": "Frum5NdVVPzd"
      },
      "source": [
        "%matplotlib inline\n",
        "\n",
        "import matplotlib\n",
        "import matplotlib.pyplot as plt\n",
        "import datetime as dt\n",
        "import pandas as pd\n",
        "import numpy as np\n",
        "import string\n",
        "import tweepy\n",
        "import time\n",
        "import json\n",
        "import nltk\n",
        "import re\n",
        "from datetime import timedelta\n",
        "from google.colab import drive\n",
        "from unidecode import unidecode\n",
        "from nltk.tokenize import word_tokenize\n",
        "from nltk.corpus import stopwords\n",
        "from emoji import demojize\n",
        "from pytz import timezone"
      ],
      "execution_count": 137,
      "outputs": []
    },
    {
      "cell_type": "markdown",
      "metadata": {
        "id": "T9fkGHWyiP1U"
      },
      "source": [
        "**Mounting drive and downloading stop words**"
      ]
    },
    {
      "cell_type": "code",
      "metadata": {
        "id": "u4f1VoFLiEx6",
        "outputId": "5ff1b4cb-8b38-4acc-feba-36e57104a024",
        "colab": {
          "base_uri": "https://localhost:8080/",
          "height": 85
        }
      },
      "source": [
        "drive.mount('/content/drive')\n",
        "nltk.download('stopwords')"
      ],
      "execution_count": 18,
      "outputs": [
        {
          "output_type": "stream",
          "text": [
            "Mounted at /content/drive\n",
            "[nltk_data] Downloading package stopwords to /root/nltk_data...\n",
            "[nltk_data]   Unzipping corpora/stopwords.zip.\n"
          ],
          "name": "stdout"
        },
        {
          "output_type": "execute_result",
          "data": {
            "text/plain": [
              "True"
            ]
          },
          "metadata": {
            "tags": []
          },
          "execution_count": 18
        }
      ]
    },
    {
      "cell_type": "markdown",
      "metadata": {
        "id": "YPa7JRcxuJSL"
      },
      "source": [
        "**Add America/São Paulo timezone for this notebook**"
      ]
    },
    {
      "cell_type": "code",
      "metadata": {
        "id": "yDqGRJKSuJsL",
        "outputId": "d9202686-c07b-4d98-c820-5a94c501f6c7",
        "colab": {
          "base_uri": "https://localhost:8080/",
          "height": 34
        }
      },
      "source": [
        "!rm /etc/localtime\n",
        "!ln -s /usr/share/zoneinfo/America/Sao_Paulo /etc/localtime\n",
        "!date\n",
        "\n",
        "tz = timezone('America/Sao_Paulo')"
      ],
      "execution_count": 19,
      "outputs": [
        {
          "output_type": "stream",
          "text": [
            "Mon Oct  5 17:51:29 -03 2020\n"
          ],
          "name": "stdout"
        }
      ]
    },
    {
      "cell_type": "code",
      "metadata": {
        "id": "zdYRMNSY6eXm",
        "outputId": "19d03594-c474-443d-898e-60477c94ef09",
        "colab": {
          "base_uri": "https://localhost:8080/",
          "height": 34
        }
      },
      "source": [
        "cd 'drive/My Drive/TCC/credentials'"
      ],
      "execution_count": 20,
      "outputs": [
        {
          "output_type": "stream",
          "text": [
            "/content/drive/My Drive/TCC/credentials\n"
          ],
          "name": "stdout"
        }
      ]
    },
    {
      "cell_type": "code",
      "metadata": {
        "id": "wyuLOEc26mIM"
      },
      "source": [
        "from credentials import *"
      ],
      "execution_count": 21,
      "outputs": []
    },
    {
      "cell_type": "markdown",
      "metadata": {
        "id": "xcgjMRwh6yfe"
      },
      "source": [
        "## **2. Extract tweets**"
      ]
    },
    {
      "cell_type": "code",
      "metadata": {
        "id": "z4D826YpwR0H",
        "outputId": "bdbef504-693f-445f-a45b-c0b091304dfd",
        "colab": {
          "base_uri": "https://localhost:8080/",
          "height": 34
        }
      },
      "source": [
        "cd '../Tweets'"
      ],
      "execution_count": null,
      "outputs": [
        {
          "output_type": "stream",
          "text": [
            "/content/drive/My Drive/TCC/Tweets\n"
          ],
          "name": "stdout"
        }
      ]
    },
    {
      "cell_type": "markdown",
      "metadata": {
        "id": "UiaZJKWawjuD"
      },
      "source": [
        "**Handling the rate limit using cursors**"
      ]
    },
    {
      "cell_type": "code",
      "metadata": {
        "id": "51J1dHPZwZcO"
      },
      "source": [
        "def limit_handled(cursor, finishes):\n",
        "    while True:\n",
        "        try:\n",
        "            if finishes == True:\n",
        "              return\n",
        "            yield cursor.next()\n",
        "        except (tweepy.RateLimitError, StopIteration):\n",
        "            if finishes == True:\n",
        "              return\n",
        "            else:\n",
        "              print('\\r{} [tweepy.RateLimitError] Rate limit exception...'.format(dt.datetime.now().astimezone(tz)), end='')\n",
        "              time.sleep(15*60)"
      ],
      "execution_count": null,
      "outputs": []
    },
    {
      "cell_type": "markdown",
      "metadata": {
        "id": "Gy0c6-DS9gYh"
      },
      "source": [
        "**Create a funcion to search tweets**"
      ]
    },
    {
      "cell_type": "code",
      "metadata": {
        "id": "6q0rre9-9hNa"
      },
      "source": [
        "def search_tweets(search_filter, since, until, limit, language):\n",
        "  finishes = False\n",
        "  for tweet in tweepy.Cursor(api.search, q=search_filter, until=until, lang=language, tweet_mode=\"extended\").items(limit):\n",
        "    tweets.append(tweet)\n",
        "    print('\\r{} [INFO] {} collected tweets!'.format(dt.datetime.now().astimezone(tz), len(tweets)), end='');\n",
        "    if limit != None and len(tweets) == limit:\n",
        "      return tweets"
      ],
      "execution_count": null,
      "outputs": []
    },
    {
      "cell_type": "markdown",
      "metadata": {
        "id": "vQNOvOcA4Odw"
      },
      "source": [
        "**API authentication**"
      ]
    },
    {
      "cell_type": "code",
      "metadata": {
        "id": "VlQCTLh_4OHV"
      },
      "source": [
        "auth = tweepy.OAuthHandler(CONSUMER_KEY, CONSUMER_SECRET)\n",
        "auth.set_access_token(ACCESS_TOKEN, ACCESS_TOKEN_SECRET)\n",
        "api = tweepy.API(auth, wait_on_rate_limit=True)"
      ],
      "execution_count": null,
      "outputs": []
    },
    {
      "cell_type": "markdown",
      "metadata": {
        "id": "0rw7hTfcGwi9"
      },
      "source": [
        "**Defining filters used in search**"
      ]
    },
    {
      "cell_type": "code",
      "metadata": {
        "id": "odq6flq8HK4-"
      },
      "source": [
        "\"\"\" não estou saindo \"não estou saindo\" (quarentena OR covid) (#covid-19 OR #coronavírus OR #coronavirus OR #covid OR #quarentena) lang:pt until:2020-01-31 since:2020-01-01 -filter:replies \"\"\"\n",
        "\n",
        "contains_both_words = ''\n",
        "exact_phrase = ''\n",
        "#contains_any_words = '(quarentena OR covid OR coronavirus OR isolamento OR festa OR role OR evento OR balada OR sair OR saindo)'\n",
        "contains_any_words = ('(quarentena OR covid OR covid-19 OR coronavirus OR coronavírus'\n",
        "                      ' OR isolamento OR isolado OR isolar OR festa OR rolê OR role'\n",
        "                      ' OR evento OR balada OR sair OR saindo OR indo OR vamos OR vou'\n",
        "                      ' OR churrasco OR churras OR churrascão OR rodeio OR show'\n",
        "                      ' OR viagem OR viajar)')\n",
        "contains_any_hashtags = ''\n",
        "no_retweet = ''\n",
        "language = 'pt'\n",
        "#since = dt.date(2020,1,1)\n",
        "until = dt.date.today() - dt.timedelta(days=7)\n",
        "since = 'since:2020-01-01'\n",
        "#until = 'until:2020-07-01'\n",
        "limit = 30000\n",
        "\n",
        "search_filter = contains_both_words + ' ' + exact_phrase + ' ' + contains_any_words + ' ' + contains_any_hashtags + ' ' + since + no_retweet"
      ],
      "execution_count": null,
      "outputs": []
    },
    {
      "cell_type": "markdown",
      "metadata": {
        "id": "YqNMr2yxIl6j"
      },
      "source": [
        "**Extracting tweets based on search filter**"
      ]
    },
    {
      "cell_type": "code",
      "metadata": {
        "id": "vEIS2-32Ip_j",
        "outputId": "3b7d526d-385b-45bd-85aa-379f8405022d",
        "colab": {
          "base_uri": "https://localhost:8080/",
          "height": 51
        }
      },
      "source": [
        "tweets = []\n",
        "started_at = dt.datetime.now()\n",
        "print('{} [INFO] starting search...'.format(dt.datetime.now().astimezone(tz)))\n",
        "tweets = search_tweets(search_filter, since, until, limit, language)\n",
        "finished_at = dt.datetime.now()"
      ],
      "execution_count": null,
      "outputs": [
        {
          "output_type": "stream",
          "text": [
            "2020-10-04 18:13:22.452408-03:00 [INFO] starting search...\n",
            "2020-10-04 20:59:28.545762-03:00 [INFO] 30000 collected tweets!"
          ],
          "name": "stdout"
        }
      ]
    },
    {
      "cell_type": "markdown",
      "metadata": {
        "id": "WxeEFuANdoZQ"
      },
      "source": [
        "**Transform Json to DataFrame and export to CSV file**"
      ]
    },
    {
      "cell_type": "code",
      "metadata": {
        "id": "0B1HDPGido0k"
      },
      "source": [
        "df = pd.DataFrame({\n",
        "      'created_at': tweet.created_at,\n",
        "      'user_id': tweet.user.id, \n",
        "      'screen_name': tweet.user.screen_name,\n",
        "      'geo': tweet.geo,\n",
        "      'coordinates': tweet.coordinates,\n",
        "      'place': tweet.place,\n",
        "      'tweet_id': tweet.id, \n",
        "      'text': unidecode(tweet.full_text),\n",
        "      'class': ''\n",
        "  } for tweet in tweets)\n",
        "\n",
        "df.to_csv('tweets_{}.csv'.format(dt.datetime.now().astimezone(tz)), encoding = 'utf-8', index = False)"
      ],
      "execution_count": null,
      "outputs": []
    },
    {
      "cell_type": "markdown",
      "metadata": {
        "id": "Xf-B19NsJLJP"
      },
      "source": [
        "**Printing found tweets**"
      ]
    },
    {
      "cell_type": "code",
      "metadata": {
        "id": "x2dI6Q2SbYbP",
        "outputId": "8606ddd9-0c30-4b4d-8724-e1ad1b19f8ff",
        "colab": {
          "base_uri": "https://localhost:8080/"
        }
      },
      "source": [
        "df.head()"
      ],
      "execution_count": null,
      "outputs": [
        {
          "output_type": "execute_result",
          "data": {
            "text/html": [
              "<div>\n",
              "<style scoped>\n",
              "    .dataframe tbody tr th:only-of-type {\n",
              "        vertical-align: middle;\n",
              "    }\n",
              "\n",
              "    .dataframe tbody tr th {\n",
              "        vertical-align: top;\n",
              "    }\n",
              "\n",
              "    .dataframe thead th {\n",
              "        text-align: right;\n",
              "    }\n",
              "</style>\n",
              "<table border=\"1\" class=\"dataframe\">\n",
              "  <thead>\n",
              "    <tr style=\"text-align: right;\">\n",
              "      <th></th>\n",
              "      <th>created_at</th>\n",
              "      <th>user_id</th>\n",
              "      <th>screen_name</th>\n",
              "      <th>geo</th>\n",
              "      <th>coordinates</th>\n",
              "      <th>place</th>\n",
              "      <th>tweet_id</th>\n",
              "      <th>text</th>\n",
              "      <th>class</th>\n",
              "    </tr>\n",
              "  </thead>\n",
              "  <tbody>\n",
              "    <tr>\n",
              "      <th>0</th>\n",
              "      <td>2020-09-26 23:59:59</td>\n",
              "      <td>375304898</td>\n",
              "      <td>Mirella_VCosta</td>\n",
              "      <td>None</td>\n",
              "      <td>None</td>\n",
              "      <td>None</td>\n",
              "      <td>1310006235589226496</td>\n",
              "      <td>RT @pedrohelenov: Sim gente estou esperando 20...</td>\n",
              "      <td></td>\n",
              "    </tr>\n",
              "    <tr>\n",
              "      <th>1</th>\n",
              "      <td>2020-09-26 23:59:59</td>\n",
              "      <td>957416619684352000</td>\n",
              "      <td>GracileneOliv15</td>\n",
              "      <td>None</td>\n",
              "      <td>None</td>\n",
              "      <td>None</td>\n",
              "      <td>1310006235564060673</td>\n",
              "      <td>RT @ounojo: \"nao vou mais deixa isso me abalar...</td>\n",
              "      <td></td>\n",
              "    </tr>\n",
              "    <tr>\n",
              "      <th>2</th>\n",
              "      <td>2020-09-26 23:59:59</td>\n",
              "      <td>3912435976</td>\n",
              "      <td>feoliveirap15</td>\n",
              "      <td>None</td>\n",
              "      <td>None</td>\n",
              "      <td>None</td>\n",
              "      <td>1310006235429830656</td>\n",
              "      <td>Eu n sei se vou aguentar ver os tres cantando ...</td>\n",
              "      <td></td>\n",
              "    </tr>\n",
              "    <tr>\n",
              "      <th>3</th>\n",
              "      <td>2020-09-26 23:59:59</td>\n",
              "      <td>1265096645970210816</td>\n",
              "      <td>Ray090815</td>\n",
              "      <td>None</td>\n",
              "      <td>None</td>\n",
              "      <td>None</td>\n",
              "      <td>1310006235132047366</td>\n",
              "      <td>RT @CarollRocha: Vou tirar uma foto dessa nunca?</td>\n",
              "      <td></td>\n",
              "    </tr>\n",
              "    <tr>\n",
              "      <th>4</th>\n",
              "      <td>2020-09-26 23:59:59</td>\n",
              "      <td>2959237217</td>\n",
              "      <td>souateuedigomds</td>\n",
              "      <td>None</td>\n",
              "      <td>None</td>\n",
              "      <td>None</td>\n",
              "      <td>1310006235022974979</td>\n",
              "      <td>vou comer pizza aqui q se foda</td>\n",
              "      <td></td>\n",
              "    </tr>\n",
              "  </tbody>\n",
              "</table>\n",
              "</div>"
            ],
            "text/plain": [
              "           created_at  ...  class\n",
              "0 2020-09-26 23:59:59  ...       \n",
              "1 2020-09-26 23:59:59  ...       \n",
              "2 2020-09-26 23:59:59  ...       \n",
              "3 2020-09-26 23:59:59  ...       \n",
              "4 2020-09-26 23:59:59  ...       \n",
              "\n",
              "[5 rows x 9 columns]"
            ]
          },
          "metadata": {
            "tags": []
          },
          "execution_count": 14
        }
      ]
    },
    {
      "cell_type": "markdown",
      "metadata": {
        "id": "97A9FfFQMoCl"
      },
      "source": [
        "**Write to json file**"
      ]
    },
    {
      "cell_type": "code",
      "metadata": {
        "id": "WFbmo1Zo8reZ",
        "outputId": "8033562a-1629-4fd8-9daa-7c171bd954c9",
        "colab": {
          "base_uri": "https://localhost:8080/",
          "height": 204
        }
      },
      "source": [
        "df = pd.DataFrame(tweets)\n",
        "df.to_json('tweets_{}.json'.format(dt.datetime.now().astimezone(tz)))\n",
        "df.head()"
      ],
      "execution_count": null,
      "outputs": [
        {
          "output_type": "execute_result",
          "data": {
            "text/html": [
              "<div>\n",
              "<style scoped>\n",
              "    .dataframe tbody tr th:only-of-type {\n",
              "        vertical-align: middle;\n",
              "    }\n",
              "\n",
              "    .dataframe tbody tr th {\n",
              "        vertical-align: top;\n",
              "    }\n",
              "\n",
              "    .dataframe thead th {\n",
              "        text-align: right;\n",
              "    }\n",
              "</style>\n",
              "<table border=\"1\" class=\"dataframe\">\n",
              "  <thead>\n",
              "    <tr style=\"text-align: right;\">\n",
              "      <th></th>\n",
              "      <th>0</th>\n",
              "    </tr>\n",
              "  </thead>\n",
              "  <tbody>\n",
              "    <tr>\n",
              "      <th>0</th>\n",
              "      <td>Status(_api=&lt;tweepy.api.API object at 0x7fab0c...</td>\n",
              "    </tr>\n",
              "    <tr>\n",
              "      <th>1</th>\n",
              "      <td>Status(_api=&lt;tweepy.api.API object at 0x7fab0c...</td>\n",
              "    </tr>\n",
              "    <tr>\n",
              "      <th>2</th>\n",
              "      <td>Status(_api=&lt;tweepy.api.API object at 0x7fab0c...</td>\n",
              "    </tr>\n",
              "    <tr>\n",
              "      <th>3</th>\n",
              "      <td>Status(_api=&lt;tweepy.api.API object at 0x7fab0c...</td>\n",
              "    </tr>\n",
              "    <tr>\n",
              "      <th>4</th>\n",
              "      <td>Status(_api=&lt;tweepy.api.API object at 0x7fab0c...</td>\n",
              "    </tr>\n",
              "  </tbody>\n",
              "</table>\n",
              "</div>"
            ],
            "text/plain": [
              "                                                   0\n",
              "0  Status(_api=<tweepy.api.API object at 0x7fab0c...\n",
              "1  Status(_api=<tweepy.api.API object at 0x7fab0c...\n",
              "2  Status(_api=<tweepy.api.API object at 0x7fab0c...\n",
              "3  Status(_api=<tweepy.api.API object at 0x7fab0c...\n",
              "4  Status(_api=<tweepy.api.API object at 0x7fab0c..."
            ]
          },
          "metadata": {
            "tags": []
          },
          "execution_count": 15
        }
      ]
    },
    {
      "cell_type": "markdown",
      "metadata": {
        "id": "FQ92bhg6VDuz"
      },
      "source": [
        "## **3. Preprocessing**\n",
        "\n",
        "This process is used to preprocess the tweet text:\n",
        "\n",
        " - Tokenize words;\n",
        " - Remove all stop words; \n",
        " - Punctuaction rules; \n",
        " - Unused characters;\n",
        " - Links from tweets."
      ]
    },
    {
      "cell_type": "code",
      "metadata": {
        "id": "huGLWK4oxhgc",
        "outputId": "bb85f86d-2e2c-4755-972d-aec741ed3064",
        "colab": {
          "base_uri": "https://localhost:8080/",
          "height": 0
        }
      },
      "source": [
        "cd '../Tweets'"
      ],
      "execution_count": 22,
      "outputs": [
        {
          "output_type": "stream",
          "text": [
            "/content/drive/My Drive/TCC/Tweets\n"
          ],
          "name": "stdout"
        }
      ]
    },
    {
      "cell_type": "code",
      "metadata": {
        "id": "1z3s-jZIVEGS"
      },
      "source": [
        "def preprocessing(pd_serie):\n",
        "\n",
        "  # Converting to lowercase\n",
        "  pd_serie = pd_serie.str.lower()\n",
        "\n",
        "  # Removing unused links\n",
        "  pd_serie = pd_serie.str.replace(r\"(http|@)\\S+\", \"\")\n",
        "\n",
        "  # Transform short negation form\n",
        "  pd_serie = pd_serie.str.split(' ', expand=True).replace('n','não').fillna('').apply(' '.join, 1)\n",
        "  pd_serie = pd_serie.str.split(' ', expand=True).replace('ñ','não').fillna('').apply(' '.join, 1)\n",
        "  pd_serie = pd_serie.str.split(' ', expand=True).replace('naum','não').fillna('').apply(' '.join, 1)\n",
        "\n",
        "  # Remove repetitions\n",
        "  pattern = re.compile(r\"(.)\\1{2,}\", re.DOTALL)\n",
        "  pd_serie = pd_serie.str.replace(pattern, r\"\\1\")\n",
        "\n",
        "  # Removing stop words\n",
        "  sw = stopwords.words('portuguese')\n",
        "  sw.remove('não')\n",
        "  sw.remove('sem')\n",
        "  sw.remove('estou')\n",
        "\n",
        "  pd_serie = pd_serie.apply(\n",
        "      lambda pd_serie: ' '.join([unidecode(word) for word in pd_serie.split() if word not in sw])\n",
        "  )\n",
        "\n",
        "  # Removing punctuation rules\n",
        "  pd_serie = pd_serie.str.translate(str.maketrans('', '', string.punctuation))\n",
        "\n",
        "  # Remove special chars\n",
        "  pd_serie = pd_serie.apply(demojize)\n",
        "  pd_serie = pd_serie.str.replace(r\"::\", \": :\")\n",
        "  pd_serie = pd_serie.str.replace(r\"’\", \"'\")\n",
        "  pd_serie = pd_serie.str.replace(r\"[^a-z\\':_]\", \" \")\n",
        "\n",
        "  return pd_serie"
      ],
      "execution_count": 23,
      "outputs": []
    },
    {
      "cell_type": "markdown",
      "metadata": {
        "id": "SyQl1I03hPE9"
      },
      "source": [
        "**Add negation tag to make emphasis in a negative phrase**"
      ]
    },
    {
      "cell_type": "code",
      "metadata": {
        "id": "yw5uKVIfhPu5"
      },
      "source": [
        "def negative_phrase(phrase):\n",
        "  negative_word = 'nao'\n",
        "  has_negative_word = False\n",
        "  new_phrase = []\n",
        "  for word in phrase.split():\n",
        "    if has_negative_word == True:\n",
        "      word = word + '_NAO'\n",
        "    if word == negative_word:\n",
        "      has_negative_word = True\n",
        "    new_phrase.append(word)\n",
        "  return (' '.join(new_phrase))"
      ],
      "execution_count": 24,
      "outputs": []
    },
    {
      "cell_type": "markdown",
      "metadata": {
        "id": "HKPqylLAZ3PV"
      },
      "source": [
        "**Open stored tweets from CSV file**"
      ]
    },
    {
      "cell_type": "code",
      "metadata": {
        "id": "78qAC2KDZ2fe",
        "outputId": "d8d09886-cfc9-4457-886a-d29e3c1a33da",
        "colab": {
          "base_uri": "https://localhost:8080/",
          "height": 0
        }
      },
      "source": [
        "df = pd.read_csv('train.csv')\n",
        "df.head()"
      ],
      "execution_count": 25,
      "outputs": [
        {
          "output_type": "execute_result",
          "data": {
            "text/html": [
              "<div>\n",
              "<style scoped>\n",
              "    .dataframe tbody tr th:only-of-type {\n",
              "        vertical-align: middle;\n",
              "    }\n",
              "\n",
              "    .dataframe tbody tr th {\n",
              "        vertical-align: top;\n",
              "    }\n",
              "\n",
              "    .dataframe thead th {\n",
              "        text-align: right;\n",
              "    }\n",
              "</style>\n",
              "<table border=\"1\" class=\"dataframe\">\n",
              "  <thead>\n",
              "    <tr style=\"text-align: right;\">\n",
              "      <th></th>\n",
              "      <th>created_at</th>\n",
              "      <th>user_id</th>\n",
              "      <th>screen_name</th>\n",
              "      <th>geo</th>\n",
              "      <th>coordinates</th>\n",
              "      <th>place</th>\n",
              "      <th>tweet_id</th>\n",
              "      <th>text</th>\n",
              "      <th>class</th>\n",
              "    </tr>\n",
              "  </thead>\n",
              "  <tbody>\n",
              "    <tr>\n",
              "      <th>0</th>\n",
              "      <td>8/12/2020 23:59</td>\n",
              "      <td>1.240000e+18</td>\n",
              "      <td>lavnia57</td>\n",
              "      <td>NaN</td>\n",
              "      <td>NaN</td>\n",
              "      <td>NaN</td>\n",
              "      <td>1.290000e+18</td>\n",
              "      <td>Ia dar um chutao nela p sair da frente kkkkkkk...</td>\n",
              "      <td>0</td>\n",
              "    </tr>\n",
              "    <tr>\n",
              "      <th>1</th>\n",
              "      <td>8/12/2020 23:59</td>\n",
              "      <td>1.290000e+18</td>\n",
              "      <td>mendsbridgerton</td>\n",
              "      <td>NaN</td>\n",
              "      <td>NaN</td>\n",
              "      <td>NaN</td>\n",
              "      <td>1.290000e+18</td>\n",
              "      <td>Eu sempre te achei famosinha ai eu tinha medo ...</td>\n",
              "      <td>0</td>\n",
              "    </tr>\n",
              "    <tr>\n",
              "      <th>2</th>\n",
              "      <td>8/12/2020 23:59</td>\n",
              "      <td>1.060000e+18</td>\n",
              "      <td>jhe_yaya</td>\n",
              "      <td>NaN</td>\n",
              "      <td>NaN</td>\n",
              "      <td>NaN</td>\n",
              "      <td>1.290000e+18</td>\n",
              "      <td>RT @clatruvs: eu no banheiro da balada falando...</td>\n",
              "      <td>0</td>\n",
              "    </tr>\n",
              "    <tr>\n",
              "      <th>3</th>\n",
              "      <td>8/12/2020 23:59</td>\n",
              "      <td>1.270000e+18</td>\n",
              "      <td>Yasminpaivax</td>\n",
              "      <td>NaN</td>\n",
              "      <td>NaN</td>\n",
              "      <td>NaN</td>\n",
              "      <td>1.290000e+18</td>\n",
              "      <td>RT @clatruvs: eu no banheiro da balada falando...</td>\n",
              "      <td>0</td>\n",
              "    </tr>\n",
              "    <tr>\n",
              "      <th>4</th>\n",
              "      <td>8/12/2020 23:59</td>\n",
              "      <td>1.280000e+18</td>\n",
              "      <td>kopp_taliaa</td>\n",
              "      <td>NaN</td>\n",
              "      <td>NaN</td>\n",
              "      <td>NaN</td>\n",
              "      <td>1.290000e+18</td>\n",
              "      <td>Mano pq sair falando?? pqp</td>\n",
              "      <td>0</td>\n",
              "    </tr>\n",
              "  </tbody>\n",
              "</table>\n",
              "</div>"
            ],
            "text/plain": [
              "        created_at  ...  class\n",
              "0  8/12/2020 23:59  ...      0\n",
              "1  8/12/2020 23:59  ...      0\n",
              "2  8/12/2020 23:59  ...      0\n",
              "3  8/12/2020 23:59  ...      0\n",
              "4  8/12/2020 23:59  ...      0\n",
              "\n",
              "[5 rows x 9 columns]"
            ]
          },
          "metadata": {
            "tags": []
          },
          "execution_count": 25
        }
      ]
    },
    {
      "cell_type": "markdown",
      "metadata": {
        "id": "fhKsfzWINh8s"
      },
      "source": [
        "**Count lines in dataset**"
      ]
    },
    {
      "cell_type": "code",
      "metadata": {
        "id": "j-4NlBLnNhZm",
        "outputId": "bef1a8ca-1ea3-4fe6-b6de-40e4fa620809",
        "colab": {
          "base_uri": "https://localhost:8080/",
          "height": 0
        }
      },
      "source": [
        "df.text.count()"
      ],
      "execution_count": 26,
      "outputs": [
        {
          "output_type": "execute_result",
          "data": {
            "text/plain": [
              "33726"
            ]
          },
          "metadata": {
            "tags": []
          },
          "execution_count": 26
        }
      ]
    },
    {
      "cell_type": "markdown",
      "metadata": {
        "id": "wnSbm_92O5Oc"
      },
      "source": [
        "**Removing duplicate lines**"
      ]
    },
    {
      "cell_type": "code",
      "metadata": {
        "id": "-_sDSborO4yK"
      },
      "source": [
        "df.drop_duplicates(['text'], inplace=True)"
      ],
      "execution_count": 27,
      "outputs": []
    },
    {
      "cell_type": "markdown",
      "metadata": {
        "id": "ePRTWXKTSYlm"
      },
      "source": [
        "**Count lines**"
      ]
    },
    {
      "cell_type": "code",
      "metadata": {
        "id": "MP0PhsEWSVjT",
        "outputId": "3a44642a-0c67-4fc1-9bef-a11f65b2a818",
        "colab": {
          "base_uri": "https://localhost:8080/",
          "height": 0
        }
      },
      "source": [
        "df.text.count()"
      ],
      "execution_count": 28,
      "outputs": [
        {
          "output_type": "execute_result",
          "data": {
            "text/plain": [
              "24948"
            ]
          },
          "metadata": {
            "tags": []
          },
          "execution_count": 28
        }
      ]
    },
    {
      "cell_type": "markdown",
      "metadata": {
        "id": "OCTyUI_0PdBe"
      },
      "source": [
        "**Preproccessing data**"
      ]
    },
    {
      "cell_type": "code",
      "metadata": {
        "id": "f4kboFYWPdO9",
        "outputId": "ebaa1101-adbb-4e85-dcb8-4fd776d96e8c",
        "colab": {
          "base_uri": "https://localhost:8080/",
          "height": 0
        }
      },
      "source": [
        "classes = df['class']\n",
        "tweets = df.text\n",
        "tweets = preprocessing(tweets)\n",
        "tweets"
      ],
      "execution_count": 29,
      "outputs": [
        {
          "output_type": "execute_result",
          "data": {
            "text/plain": [
              "0                       ia dar chutao nela p sair frente k\n",
              "1        sempre achei famosinha ai medo interagir vamos...\n",
              "2        rt banheiro balada falando pra menina q acabei...\n",
              "4                                 mano pq sair falando pqp\n",
              "5        entao vamos ficar separadas pq nao vou mandar ...\n",
              "                               ...                        \n",
              "33721    rt favor doria fiel protocolo nao tome ivermec...\n",
              "33722    mlkd ta td aq base vou clc beat p noix resenha...\n",
              "33723              real to entendendo so to indo ta ligado\n",
              "33724    vou voltar malhar segunda aff vou ficar chata ...\n",
              "33725    queria ta churrasco familia cantando molejo ma...\n",
              "Length: 24948, dtype: object"
            ]
          },
          "metadata": {
            "tags": []
          },
          "execution_count": 29
        }
      ]
    },
    {
      "cell_type": "markdown",
      "metadata": {
        "id": "VChh4lPc7TX3"
      },
      "source": [
        "## **4. Training and predict process**"
      ]
    },
    {
      "cell_type": "markdown",
      "metadata": {
        "id": "c-7iWMMoQiFP"
      },
      "source": [
        "**Required libraries**"
      ]
    },
    {
      "cell_type": "code",
      "metadata": {
        "id": "VcIuD-tdQZxC"
      },
      "source": [
        "import sklearn\n",
        "import joblib\n",
        "from sklearn import metrics\n",
        "from sklearn.pipeline import Pipeline\n",
        "from sklearn.neural_network import MLPClassifier\n",
        "from sklearn.naive_bayes import MultinomialNB\n",
        "from sklearn.model_selection import train_test_split\n",
        "from sklearn.model_selection import cross_val_score\n",
        "from sklearn.feature_extraction.text import CountVectorizer\n",
        "from sklearn.metrics import confusion_matrix\n",
        "from sklearn.metrics import plot_confusion_matrix"
      ],
      "execution_count": 127,
      "outputs": []
    },
    {
      "cell_type": "markdown",
      "metadata": {
        "id": "iqL2OTQmIuTg"
      },
      "source": [
        "**Define function to create pipeline model**"
      ]
    },
    {
      "cell_type": "code",
      "metadata": {
        "id": "Y8z_wfaYIt22"
      },
      "source": [
        "def pipeline(model, n_gram, negation):\n",
        "  pipe = Pipeline([('vectorizer', CountVectorizer()), ('model', model)])\n",
        "\n",
        "  if negation:\n",
        "    return Pipeline([\n",
        "      ('vectorizer', CountVectorizer(tokenizer=lambda phrase: negative_phrase(phrase), ngram_range=n_gram)), \n",
        "      ('model', model)\n",
        "    ])    \n",
        "  else:\n",
        "    return Pipeline([('vectorizer', CountVectorizer(ngram_range=n_gram)), ('model', model)])"
      ],
      "execution_count": 31,
      "outputs": []
    },
    {
      "cell_type": "markdown",
      "metadata": {
        "id": "b3gPe5CjYZVF"
      },
      "source": [
        "**Define individual score function**"
      ]
    },
    {
      "cell_type": "code",
      "metadata": {
        "id": "LEcOt7ODYcq3"
      },
      "source": [
        "def score(model_name, pipeline):\n",
        "  score = pipeline.score(X_test, y_test)\n",
        "  print('\\r{} [INFO] Score of {} model with testing data is {:.1%}\\n'\n",
        "    .format(dt.datetime.now().astimezone(tz), model_name, score))\n",
        "  return score"
      ],
      "execution_count": 32,
      "outputs": []
    },
    {
      "cell_type": "markdown",
      "metadata": {
        "id": "AR2pH7-gZJEK"
      },
      "source": [
        "**Define cross validation function**"
      ]
    },
    {
      "cell_type": "code",
      "metadata": {
        "id": "kUQ68JlOP1xQ"
      },
      "source": [
        "def cross_validation(model_name, pipe, X_train, y_train, k_fold):\n",
        "  scores = cross_val_score(pipe, X_train, y_train, cv=k_fold, n_jobs=-1)\n",
        "  score = np.mean(scores)\n",
        "  print(\"\\r{0} [INFO] Score for {1} model: {2}\".format(dt.datetime.now().astimezone(tz), model_name, score))\n",
        "  return score\n"
      ],
      "execution_count": 147,
      "outputs": []
    },
    {
      "cell_type": "markdown",
      "metadata": {
        "id": "fS7SNnWwsdyM"
      },
      "source": [
        "**Define training function**\n",
        "- Train model\n",
        "- Get individual score for MLP model\n",
        "- Make cross validation"
      ]
    },
    {
      "cell_type": "code",
      "metadata": {
        "id": "1SjdXf7EseHv"
      },
      "source": [
        "def fit(model_name, pipeline, X_train, y_train, k_fold):\n",
        "  pipe.fit(X_train, y_train)\n",
        "  print('\\r{} [INFO] finish fit model...\\n'\n",
        "    .format(dt.datetime.now().astimezone(tz)))\n",
        "  print('\\r{} [INFO] starting cross validation...\\n'\n",
        "    .format(dt.datetime.now().astimezone(tz)))\n",
        "  cross_validation_score = cross_validation(model_name, pipeline, X_train, y_train, k_fold)\n",
        "  return cross_validation_score"
      ],
      "execution_count": 44,
      "outputs": []
    },
    {
      "cell_type": "markdown",
      "metadata": {
        "id": "QXJ9xie-gPc1"
      },
      "source": [
        "**Define plot confusion matrix function**"
      ]
    },
    {
      "cell_type": "code",
      "metadata": {
        "id": "6BP2omjtgPc3"
      },
      "source": [
        "def confusion_matrix(pipeline, X_test, y_test):\n",
        "  titles_options = [(\"Confusion matrix, without normalization\", None),\n",
        "                    (\"Normalized confusion matrix\", 'true')]\n",
        "  for title, normalize in titles_options:\n",
        "      disp = plot_confusion_matrix(pipe, X_test, y_test,\n",
        "                                  display_labels=[0, 1],\n",
        "                                  cmap=plt.cm.Blues,\n",
        "                                  normalize=normalize)\n",
        "      disp.ax_.set_title(title)\n",
        "  plt.show()"
      ],
      "execution_count": 129,
      "outputs": []
    },
    {
      "cell_type": "markdown",
      "metadata": {
        "id": "brpX4tQjRMw_"
      },
      "source": [
        "**Split x and y (feature and target)**"
      ]
    },
    {
      "cell_type": "code",
      "metadata": {
        "id": "Pk5l-vzJolHu"
      },
      "source": [
        "train_size=0.9\n",
        "X_train, X_test, y_train, y_test = train_test_split(tweets,\n",
        "                                                    classes,\n",
        "                                                    train_size=train_size)"
      ],
      "execution_count": 36,
      "outputs": []
    },
    {
      "cell_type": "code",
      "metadata": {
        "id": "bXRGNZQinqrW",
        "outputId": "b18200de-c3c0-48c8-d11e-5a66abacbb7a",
        "colab": {
          "base_uri": "https://localhost:8080/",
          "height": 419
        }
      },
      "source": [
        "pd.DataFrame({'tweet': X_train, 'class': y_train})"
      ],
      "execution_count": 37,
      "outputs": [
        {
          "output_type": "execute_result",
          "data": {
            "text/html": [
              "<div>\n",
              "<style scoped>\n",
              "    .dataframe tbody tr th:only-of-type {\n",
              "        vertical-align: middle;\n",
              "    }\n",
              "\n",
              "    .dataframe tbody tr th {\n",
              "        vertical-align: top;\n",
              "    }\n",
              "\n",
              "    .dataframe thead th {\n",
              "        text-align: right;\n",
              "    }\n",
              "</style>\n",
              "<table border=\"1\" class=\"dataframe\">\n",
              "  <thead>\n",
              "    <tr style=\"text-align: right;\">\n",
              "      <th></th>\n",
              "      <th>tweet</th>\n",
              "      <th>class</th>\n",
              "    </tr>\n",
              "  </thead>\n",
              "  <tbody>\n",
              "    <tr>\n",
              "      <th>31715</th>\n",
              "      <td>vamos reagir marcar poxa</td>\n",
              "      <td>0</td>\n",
              "    </tr>\n",
              "    <tr>\n",
              "      <th>28367</th>\n",
              "      <td>rt so pra nao perder costume</td>\n",
              "      <td>0</td>\n",
              "    </tr>\n",
              "    <tr>\n",
              "      <th>23136</th>\n",
              "      <td>corinthians ta indo mal pior pqp</td>\n",
              "      <td>0</td>\n",
              "    </tr>\n",
              "    <tr>\n",
              "      <th>12968</th>\n",
              "      <td>rt nao gosta futebol blz ngm obrigado gostar n...</td>\n",
              "      <td>0</td>\n",
              "    </tr>\n",
              "    <tr>\n",
              "      <th>23721</th>\n",
              "      <td>temas escolher vou fazer tcc resultadolibria...</td>\n",
              "      <td>0</td>\n",
              "    </tr>\n",
              "    <tr>\n",
              "      <th>...</th>\n",
              "      <td>...</td>\n",
              "      <td>...</td>\n",
              "    </tr>\n",
              "    <tr>\n",
              "      <th>17027</th>\n",
              "      <td>tava tomando vinho agr cerveja preta daqui pou...</td>\n",
              "      <td>0</td>\n",
              "    </tr>\n",
              "    <tr>\n",
              "      <th>15410</th>\n",
              "      <td>vou dormir medo assistir farol</td>\n",
              "      <td>0</td>\n",
              "    </tr>\n",
              "    <tr>\n",
              "      <th>5393</th>\n",
              "      <td>varios tweets nao farei p nao magoar sentiment...</td>\n",
              "      <td>0</td>\n",
              "    </tr>\n",
              "    <tr>\n",
              "      <th>23235</th>\n",
              "      <td>vou ter ver video tbm k</td>\n",
              "      <td>0</td>\n",
              "    </tr>\n",
              "    <tr>\n",
              "      <th>3023</th>\n",
              "      <td>nao vou assistir nunca jogo sem sentir falta m...</td>\n",
              "      <td>0</td>\n",
              "    </tr>\n",
              "  </tbody>\n",
              "</table>\n",
              "<p>22453 rows × 2 columns</p>\n",
              "</div>"
            ],
            "text/plain": [
              "                                                   tweet  class\n",
              "31715                           vamos reagir marcar poxa      0\n",
              "28367                       rt so pra nao perder costume      0\n",
              "23136                   corinthians ta indo mal pior pqp      0\n",
              "12968  rt nao gosta futebol blz ngm obrigado gostar n...      0\n",
              "23721    temas escolher vou fazer tcc resultadolibria...      0\n",
              "...                                                  ...    ...\n",
              "17027  tava tomando vinho agr cerveja preta daqui pou...      0\n",
              "15410                     vou dormir medo assistir farol      0\n",
              "5393   varios tweets nao farei p nao magoar sentiment...      0\n",
              "23235                            vou ter ver video tbm k      0\n",
              "3023   nao vou assistir nunca jogo sem sentir falta m...      0\n",
              "\n",
              "[22453 rows x 2 columns]"
            ]
          },
          "metadata": {
            "tags": []
          },
          "execution_count": 37
        }
      ]
    },
    {
      "cell_type": "code",
      "metadata": {
        "id": "eEGOCl6-ntcI",
        "outputId": "3c82f769-2741-4680-ec48-00fc0ceee393",
        "colab": {
          "base_uri": "https://localhost:8080/",
          "height": 419
        }
      },
      "source": [
        "pd.DataFrame({'tweet': X_test, 'class': y_test})"
      ],
      "execution_count": 38,
      "outputs": [
        {
          "output_type": "execute_result",
          "data": {
            "text/html": [
              "<div>\n",
              "<style scoped>\n",
              "    .dataframe tbody tr th:only-of-type {\n",
              "        vertical-align: middle;\n",
              "    }\n",
              "\n",
              "    .dataframe tbody tr th {\n",
              "        vertical-align: top;\n",
              "    }\n",
              "\n",
              "    .dataframe thead th {\n",
              "        text-align: right;\n",
              "    }\n",
              "</style>\n",
              "<table border=\"1\" class=\"dataframe\">\n",
              "  <thead>\n",
              "    <tr style=\"text-align: right;\">\n",
              "      <th></th>\n",
              "      <th>tweet</th>\n",
              "      <th>class</th>\n",
              "    </tr>\n",
              "  </thead>\n",
              "  <tbody>\n",
              "    <tr>\n",
              "      <th>28193</th>\n",
              "      <td>vou procurar</td>\n",
              "      <td>0</td>\n",
              "    </tr>\n",
              "    <tr>\n",
              "      <th>20597</th>\n",
              "      <td>vou comentar nada sobre jogo horrivel atgxfla</td>\n",
              "      <td>0</td>\n",
              "    </tr>\n",
              "    <tr>\n",
              "      <th>32492</th>\n",
              "      <td>to colica doida pra sair aula</td>\n",
              "      <td>0</td>\n",
              "    </tr>\n",
              "    <tr>\n",
              "      <th>27298</th>\n",
              "      <td>hm vou dormir dnv boa noite amgs</td>\n",
              "      <td>0</td>\n",
              "    </tr>\n",
              "    <tr>\n",
              "      <th>32509</th>\n",
              "      <td>pois entao oq q vou dizer ne olavo ensinou que...</td>\n",
              "      <td>0</td>\n",
              "    </tr>\n",
              "    <tr>\n",
              "      <th>...</th>\n",
              "      <td>...</td>\n",
              "      <td>...</td>\n",
              "    </tr>\n",
              "    <tr>\n",
              "      <th>26904</th>\n",
              "      <td>oi lindo tudo bem voce  construir vida nova va...</td>\n",
              "      <td>0</td>\n",
              "    </tr>\n",
              "    <tr>\n",
              "      <th>895</th>\n",
              "      <td>rt pessoa querendo humilhar bts falando pediam...</td>\n",
              "      <td>0</td>\n",
              "    </tr>\n",
              "    <tr>\n",
              "      <th>4686</th>\n",
              "      <td>vou adorar ver programas esportivos desmerecen...</td>\n",
              "      <td>0</td>\n",
              "    </tr>\n",
              "    <tr>\n",
              "      <th>10914</th>\n",
              "      <td>amanha levo ta vou levar</td>\n",
              "      <td>1</td>\n",
              "    </tr>\n",
              "    <tr>\n",
              "      <th>25102</th>\n",
              "      <td>desculpa pai desculpa mae hoje vou sarrar pro ...</td>\n",
              "      <td>0</td>\n",
              "    </tr>\n",
              "  </tbody>\n",
              "</table>\n",
              "<p>2495 rows × 2 columns</p>\n",
              "</div>"
            ],
            "text/plain": [
              "                                                   tweet  class\n",
              "28193                                       vou procurar      0\n",
              "20597      vou comentar nada sobre jogo horrivel atgxfla      0\n",
              "32492                      to colica doida pra sair aula      0\n",
              "27298                   hm vou dormir dnv boa noite amgs      0\n",
              "32509  pois entao oq q vou dizer ne olavo ensinou que...      0\n",
              "...                                                  ...    ...\n",
              "26904  oi lindo tudo bem voce  construir vida nova va...      0\n",
              "895    rt pessoa querendo humilhar bts falando pediam...      0\n",
              "4686   vou adorar ver programas esportivos desmerecen...      0\n",
              "10914                         amanha levo ta vou levar        1\n",
              "25102  desculpa pai desculpa mae hoje vou sarrar pro ...      0\n",
              "\n",
              "[2495 rows x 2 columns]"
            ]
          },
          "metadata": {
            "tags": []
          },
          "execution_count": 38
        }
      ]
    },
    {
      "cell_type": "markdown",
      "metadata": {
        "id": "WZyX4LkUogVS"
      },
      "source": [
        "### **3.1 - MLPClassifier**"
      ]
    },
    {
      "cell_type": "markdown",
      "metadata": {
        "id": "NSeKiC1BSu6D"
      },
      "source": [
        "**Create a Multilayer Perceptron Model**\n",
        "\n",
        "- Hidden layers = 1\n",
        "- Neurons = 10\n",
        "- Learning rate = 0.01\n",
        "- Max iteration = 500\n",
        "- Optimizer = Stochastic Gradient Descent with no batch-size"
      ]
    },
    {
      "cell_type": "code",
      "metadata": {
        "id": "kTEyzENHSrZ1"
      },
      "source": [
        "\"\"\"mlp_model = MLPClassifier(hidden_layer_sizes=(10), \n",
        "                          solver='sgd', \n",
        "                          learning_rate_init=0.01,\n",
        "                          max_iter=500,\n",
        "                          random_state=113)\"\"\"\n",
        "\n",
        "mlp_model = MLPClassifier(learning_rate_init=0.01,\n",
        "                          random_state=42)                "
      ],
      "execution_count": 40,
      "outputs": []
    },
    {
      "cell_type": "markdown",
      "metadata": {
        "id": "vTWAD5QhVa19"
      },
      "source": [
        "**Create pipeline for MLP classifier**"
      ]
    },
    {
      "cell_type": "code",
      "metadata": {
        "id": "SOZI0X9eWbTR"
      },
      "source": [
        "'''pipe = Pipeline([('vectorizer', CountVectorizer()), ('model', mlp_model)])\n",
        "\n",
        "pipe_bigrams = Pipeline([('vectorizer', CountVectorizer(ngram_range=(1,2))), ('model', mlp_model)])\n",
        "\n",
        "pipe_negation = Pipeline([\n",
        "  ('vectorizer', CountVectorizer(tokenizer=lambda phrase: negative_phrase(phrase))), \n",
        "  ('model', mlp_model)\n",
        "])'''\n",
        "\n",
        "pipe = pipeline(mlp_model, (1,2), False)"
      ],
      "execution_count": 41,
      "outputs": []
    },
    {
      "cell_type": "markdown",
      "metadata": {
        "id": "V-_TWHN6bQnO"
      },
      "source": [
        "**Run training MLP model**"
      ]
    },
    {
      "cell_type": "code",
      "metadata": {
        "id": "gV36Kx19bdpn",
        "outputId": "9c1742b2-08ff-4565-8dfb-e89169fe684e",
        "colab": {
          "base_uri": "https://localhost:8080/",
          "height": 102
        }
      },
      "source": [
        "print('{} [INFO] starting train...'.format(dt.datetime.now().astimezone(tz)))\n",
        "fit(\"MLP Classifier\", pipe, X_train, y_train, 10)\n",
        "print('{} [INFO] train successful...'.format(dt.datetime.now().astimezone(tz)))"
      ],
      "execution_count": 45,
      "outputs": [
        {
          "output_type": "stream",
          "text": [
            "2020-10-05 18:05:21.958068-03:00 [INFO] starting train...\n",
            "2020-10-05 21:13:50.253410 [INFO] Score of MLP Classifier model with testing data is 96.8%\n",
            "\n",
            "Score for MLP Classifier model: 0.9690465802108971\n",
            "2020-10-05 19:00:30.999857-03:00 [INFO] train successful...\n"
          ],
          "name": "stdout"
        }
      ]
    },
    {
      "cell_type": "markdown",
      "metadata": {
        "id": "EwKUlxnBeHm1"
      },
      "source": [
        "**Store MPL model in disk**"
      ]
    },
    {
      "cell_type": "code",
      "metadata": {
        "id": "i2AwkD3DeHHI",
        "outputId": "6b631e24-9188-4caf-88ea-b5011373acfa",
        "colab": {
          "base_uri": "https://localhost:8080/",
          "height": 34
        }
      },
      "source": [
        "file_name = 'mlp_model'\n",
        "joblib.dump(pipe, file_name)\n",
        "print('\\rMPL model was saved sucessfully!')"
      ],
      "execution_count": 56,
      "outputs": [
        {
          "output_type": "stream",
          "text": [
            "\rMPL model was saved sucessfully!\n"
          ],
          "name": "stdout"
        }
      ]
    },
    {
      "cell_type": "markdown",
      "metadata": {
        "id": "7SVAz9Mfgpic"
      },
      "source": [
        "**Load MLP model**"
      ]
    },
    {
      "cell_type": "code",
      "metadata": {
        "id": "bn3G3aPygoO1"
      },
      "source": [
        "pipe = joblib.load(file_name)"
      ],
      "execution_count": 57,
      "outputs": []
    },
    {
      "cell_type": "markdown",
      "metadata": {
        "id": "07slT345Wy1w"
      },
      "source": [
        "**Predict tweets**"
      ]
    },
    {
      "cell_type": "code",
      "metadata": {
        "id": "rxnj_CknoWgU",
        "outputId": "1bbfd975-3d12-4d6e-9669-b69a52db5bb6",
        "colab": {
          "base_uri": "https://localhost:8080/",
          "height": 419
        }
      },
      "source": [
        "tests = X_test\n",
        "predict_result = pipe.predict(X_test)\n",
        "pd.DataFrame(zip(tests, predict_result), columns=['tweet', 'class'])"
      ],
      "execution_count": 58,
      "outputs": [
        {
          "output_type": "execute_result",
          "data": {
            "text/html": [
              "<div>\n",
              "<style scoped>\n",
              "    .dataframe tbody tr th:only-of-type {\n",
              "        vertical-align: middle;\n",
              "    }\n",
              "\n",
              "    .dataframe tbody tr th {\n",
              "        vertical-align: top;\n",
              "    }\n",
              "\n",
              "    .dataframe thead th {\n",
              "        text-align: right;\n",
              "    }\n",
              "</style>\n",
              "<table border=\"1\" class=\"dataframe\">\n",
              "  <thead>\n",
              "    <tr style=\"text-align: right;\">\n",
              "      <th></th>\n",
              "      <th>tweet</th>\n",
              "      <th>class</th>\n",
              "    </tr>\n",
              "  </thead>\n",
              "  <tbody>\n",
              "    <tr>\n",
              "      <th>0</th>\n",
              "      <td>vou procurar</td>\n",
              "      <td>0</td>\n",
              "    </tr>\n",
              "    <tr>\n",
              "      <th>1</th>\n",
              "      <td>vou comentar nada sobre jogo horrivel atgxfla</td>\n",
              "      <td>0</td>\n",
              "    </tr>\n",
              "    <tr>\n",
              "      <th>2</th>\n",
              "      <td>to colica doida pra sair aula</td>\n",
              "      <td>0</td>\n",
              "    </tr>\n",
              "    <tr>\n",
              "      <th>3</th>\n",
              "      <td>hm vou dormir dnv boa noite amgs</td>\n",
              "      <td>0</td>\n",
              "    </tr>\n",
              "    <tr>\n",
              "      <th>4</th>\n",
              "      <td>pois entao oq q vou dizer ne olavo ensinou que...</td>\n",
              "      <td>0</td>\n",
              "    </tr>\n",
              "    <tr>\n",
              "      <th>...</th>\n",
              "      <td>...</td>\n",
              "      <td>...</td>\n",
              "    </tr>\n",
              "    <tr>\n",
              "      <th>2490</th>\n",
              "      <td>oi lindo tudo bem voce  construir vida nova va...</td>\n",
              "      <td>0</td>\n",
              "    </tr>\n",
              "    <tr>\n",
              "      <th>2491</th>\n",
              "      <td>rt pessoa querendo humilhar bts falando pediam...</td>\n",
              "      <td>0</td>\n",
              "    </tr>\n",
              "    <tr>\n",
              "      <th>2492</th>\n",
              "      <td>vou adorar ver programas esportivos desmerecen...</td>\n",
              "      <td>0</td>\n",
              "    </tr>\n",
              "    <tr>\n",
              "      <th>2493</th>\n",
              "      <td>amanha levo ta vou levar</td>\n",
              "      <td>0</td>\n",
              "    </tr>\n",
              "    <tr>\n",
              "      <th>2494</th>\n",
              "      <td>desculpa pai desculpa mae hoje vou sarrar pro ...</td>\n",
              "      <td>0</td>\n",
              "    </tr>\n",
              "  </tbody>\n",
              "</table>\n",
              "<p>2495 rows × 2 columns</p>\n",
              "</div>"
            ],
            "text/plain": [
              "                                                  tweet  class\n",
              "0                                          vou procurar      0\n",
              "1         vou comentar nada sobre jogo horrivel atgxfla      0\n",
              "2                         to colica doida pra sair aula      0\n",
              "3                      hm vou dormir dnv boa noite amgs      0\n",
              "4     pois entao oq q vou dizer ne olavo ensinou que...      0\n",
              "...                                                 ...    ...\n",
              "2490  oi lindo tudo bem voce  construir vida nova va...      0\n",
              "2491  rt pessoa querendo humilhar bts falando pediam...      0\n",
              "2492  vou adorar ver programas esportivos desmerecen...      0\n",
              "2493                         amanha levo ta vou levar        0\n",
              "2494  desculpa pai desculpa mae hoje vou sarrar pro ...      0\n",
              "\n",
              "[2495 rows x 2 columns]"
            ]
          },
          "metadata": {
            "tags": []
          },
          "execution_count": 58
        }
      ]
    },
    {
      "cell_type": "markdown",
      "metadata": {
        "id": "kyyxjlWnWtpm"
      },
      "source": [
        "**Plot confusion matrix**"
      ]
    },
    {
      "cell_type": "code",
      "metadata": {
        "id": "Uoadc_T0W5tg",
        "outputId": "79cd84f2-1519-4c33-e240-c6a7a5da3edd",
        "colab": {
          "base_uri": "https://localhost:8080/",
          "height": 573
        }
      },
      "source": [
        "#print(pd.crosstab(y_test, predict_result, rownames=['Real'], colnames=['Predicted'], margins=True))\n",
        "confusion_matrix(pipe, X_test, y_test)"
      ],
      "execution_count": 150,
      "outputs": [
        {
          "output_type": "display_data",
          "data": {
            "image/png": "[encoded data removed]",
            "text/plain": [
              "<Figure size 432x288 with 2 Axes>"
            ]
          },
          "metadata": {
            "tags": [],
            "needs_background": "light"
          }
        },
        {
          "output_type": "display_data",
          "data": {
            "image/png": "[encoded data removed]",
            "text/plain": [
              "<Figure size 432x288 with 2 Axes>"
            ]
          },
          "metadata": {
            "tags": [],
            "needs_background": "light"
          }
        }
      ]
    },
    {
      "cell_type": "markdown",
      "metadata": {
        "id": "DSNfvBfgtCyc"
      },
      "source": [
        "**Test**"
      ]
    },
    {
      "cell_type": "code",
      "metadata": {
        "id": "HD_P-7jaMewX",
        "outputId": "ef785b75-07d1-4f26-a050-69885cc28aa7",
        "colab": {
          "base_uri": "https://localhost:8080/",
          "height": 170
        }
      },
      "source": [
        "test = [\n",
        "        (unidecode('Amanhã vou pro rolê com as amigas!!!')),\n",
        "        (unidecode('Estou indo no mercado')),\n",
        "        (unidecode('Alguém que ir comigo na festa semana que vem?')),\n",
        "        (unidecode('Tô na festa da Júlia e tá muito top!!!! Vem pra ca amiga')),\n",
        "        (unidecode('Daqui a pouco vou no hospital fazer exame de sangue')),\n",
        "        (unidecode('n estou saindo de casa pra nada')),\n",
        "        (unidecode('n estou saindo de casa')),\n",
        "        (unidecode('150 dias sem sair de casa. Quarentena tá me deixando loucooooo!!! :/'))\n",
        "       ]\n",
        "\n",
        "new_test = pd.DataFrame(test, columns=['text'])\n",
        "new_test = preprocessing(new_test['text'])\n",
        "'''new_test = new_test.apply(\n",
        "    lambda new_test: ' '.join([negative_phrase(phrase) for phrase in new_test])\n",
        ")'''\n",
        "new_test"
      ],
      "execution_count": 141,
      "outputs": [
        {
          "output_type": "execute_result",
          "data": {
            "text/plain": [
              "0                           amanha vou pro role amigas\n",
              "1                                   estou indo mercado\n",
              "2                    alguem ir comigo festa semana vem\n",
              "3               to festa julia ta top vem pra ca amiga\n",
              "4          daqui pouco vou hospital fazer exame sangue\n",
              "5                       nao estou saindo casa pra nada\n",
              "6                                nao estou saindo casa\n",
              "7        dias sem sair casa quarentena ta deixando ...\n",
              "dtype: object"
            ]
          },
          "metadata": {
            "tags": []
          },
          "execution_count": 141
        }
      ]
    },
    {
      "cell_type": "code",
      "metadata": {
        "id": "jjTIPqQ8SGt2",
        "outputId": "62b329f2-88cd-445e-ee06-c2f362a2ab32",
        "colab": {
          "base_uri": "https://localhost:8080/",
          "height": 297
        }
      },
      "source": [
        "predict_result = pipe.predict(new_test)\n",
        "pd.DataFrame(zip(new_test, predict_result), columns=['tweet', 'class'])"
      ],
      "execution_count": 142,
      "outputs": [
        {
          "output_type": "execute_result",
          "data": {
            "text/html": [
              "<div>\n",
              "<style scoped>\n",
              "    .dataframe tbody tr th:only-of-type {\n",
              "        vertical-align: middle;\n",
              "    }\n",
              "\n",
              "    .dataframe tbody tr th {\n",
              "        vertical-align: top;\n",
              "    }\n",
              "\n",
              "    .dataframe thead th {\n",
              "        text-align: right;\n",
              "    }\n",
              "</style>\n",
              "<table border=\"1\" class=\"dataframe\">\n",
              "  <thead>\n",
              "    <tr style=\"text-align: right;\">\n",
              "      <th></th>\n",
              "      <th>tweet</th>\n",
              "      <th>class</th>\n",
              "    </tr>\n",
              "  </thead>\n",
              "  <tbody>\n",
              "    <tr>\n",
              "      <th>0</th>\n",
              "      <td>amanha vou pro role amigas</td>\n",
              "      <td>0</td>\n",
              "    </tr>\n",
              "    <tr>\n",
              "      <th>1</th>\n",
              "      <td>estou indo mercado</td>\n",
              "      <td>1</td>\n",
              "    </tr>\n",
              "    <tr>\n",
              "      <th>2</th>\n",
              "      <td>alguem ir comigo festa semana vem</td>\n",
              "      <td>0</td>\n",
              "    </tr>\n",
              "    <tr>\n",
              "      <th>3</th>\n",
              "      <td>to festa julia ta top vem pra ca amiga</td>\n",
              "      <td>1</td>\n",
              "    </tr>\n",
              "    <tr>\n",
              "      <th>4</th>\n",
              "      <td>daqui pouco vou hospital fazer exame sangue</td>\n",
              "      <td>1</td>\n",
              "    </tr>\n",
              "    <tr>\n",
              "      <th>5</th>\n",
              "      <td>nao estou saindo casa pra nada</td>\n",
              "      <td>0</td>\n",
              "    </tr>\n",
              "    <tr>\n",
              "      <th>6</th>\n",
              "      <td>nao estou saindo casa</td>\n",
              "      <td>0</td>\n",
              "    </tr>\n",
              "    <tr>\n",
              "      <th>7</th>\n",
              "      <td>dias sem sair casa quarentena ta deixando ...</td>\n",
              "      <td>0</td>\n",
              "    </tr>\n",
              "  </tbody>\n",
              "</table>\n",
              "</div>"
            ],
            "text/plain": [
              "                                               tweet  class\n",
              "0                         amanha vou pro role amigas      0\n",
              "1                                 estou indo mercado      1\n",
              "2                  alguem ir comigo festa semana vem      0\n",
              "3             to festa julia ta top vem pra ca amiga      1\n",
              "4        daqui pouco vou hospital fazer exame sangue      1\n",
              "5                     nao estou saindo casa pra nada      0\n",
              "6                              nao estou saindo casa      0\n",
              "7      dias sem sair casa quarentena ta deixando ...      0"
            ]
          },
          "metadata": {
            "tags": []
          },
          "execution_count": 142
        }
      ]
    },
    {
      "cell_type": "markdown",
      "metadata": {
        "id": "xKG3J_jC8LFI"
      },
      "source": [
        "### **3.2 - Naive Bayes**"
      ]
    },
    {
      "cell_type": "markdown",
      "metadata": {
        "id": "uhNAE6MEH4T4"
      },
      "source": [
        "**Create a MultinomialNB Model**"
      ]
    },
    {
      "cell_type": "code",
      "metadata": {
        "id": "pAJl5Pqi8LFJ"
      },
      "source": [
        "naive_bayes_model = MultinomialNB()"
      ],
      "execution_count": 152,
      "outputs": []
    },
    {
      "cell_type": "markdown",
      "metadata": {
        "id": "bpgSRktALGni"
      },
      "source": [
        "**Create pipeline for MultinomialNB**"
      ]
    },
    {
      "cell_type": "code",
      "metadata": {
        "id": "XC5PWZcqLPjP"
      },
      "source": [
        "pipe = pipeline(naive_bayes_model, (1,2), False)"
      ],
      "execution_count": 153,
      "outputs": []
    },
    {
      "cell_type": "markdown",
      "metadata": {
        "id": "iuMO-MgWcUGk"
      },
      "source": [
        "**Run training MultinomialNB model**"
      ]
    },
    {
      "cell_type": "code",
      "metadata": {
        "id": "WlJU9Jl2cUGn",
        "outputId": "3c6a262d-6031-4f27-e836-e8b18a352255",
        "colab": {
          "base_uri": "https://localhost:8080/",
          "height": 102
        }
      },
      "source": [
        "print('{} [INFO] starting train...'.format(dt.datetime.now().astimezone(tz)))\n",
        "fit(\"MultinomialNB\", pipe, X_train, y_train, 10)\n",
        "print('{} [INFO] train successful...'.format(dt.datetime.now().astimezone(tz)))"
      ],
      "execution_count": 154,
      "outputs": [
        {
          "output_type": "stream",
          "text": [
            "2020-10-05 20:33:07.632800-03:00 [INFO] starting train...\n",
            "2020-10-05 23:33:08.391692 [INFO] Score of MultinomialNB model with testing data is 96.6%\n",
            "\n",
            "2020-10-05 20:33:13.679772-03:00 [INFO] Score for MultinomialNB model: 0.9707834169927434\n",
            "2020-10-05 20:33:13.680015-03:00 [INFO] train successful...\n"
          ],
          "name": "stdout"
        }
      ]
    },
    {
      "cell_type": "markdown",
      "metadata": {
        "id": "hGpY3QFagHrc"
      },
      "source": [
        "**Plot confusion matrix**"
      ]
    },
    {
      "cell_type": "code",
      "metadata": {
        "id": "d3Hiws9MgHrf",
        "outputId": "cc29d3a3-18d4-4faf-e016-831a0be1137d",
        "colab": {
          "base_uri": "https://localhost:8080/",
          "height": 573
        }
      },
      "source": [
        "#print(pd.crosstab(y_train, results, rownames=['Real'], colnames=['Predicted'], margins=True))\n",
        "confusion_matrix(pipe, X_test, y_test)"
      ],
      "execution_count": 155,
      "outputs": [
        {
          "output_type": "display_data",
          "data": {
            "image/png": "[encoded data removed]",
            "text/plain": [
              "<Figure size 432x288 with 2 Axes>"
            ]
          },
          "metadata": {
            "tags": [],
            "needs_background": "light"
          }
        },
        {
          "output_type": "display_data",
          "data": {
            "image/png": "[encoded data removed]",
            "text/plain": [
              "<Figure size 432x288 with 2 Axes>"
            ]
          },
          "metadata": {
            "tags": [],
            "needs_background": "light"
          }
        }
      ]
    },
    {
      "cell_type": "markdown",
      "metadata": {
        "id": "kgGfye9ahnOv"
      },
      "source": [
        "**Predict tweets**"
      ]
    },
    {
      "cell_type": "code",
      "metadata": {
        "id": "YPOxI9Q-hnOy",
        "outputId": "e052c168-1eb7-4458-d3fa-7eb976652c15",
        "colab": {
          "base_uri": "https://localhost:8080/",
          "height": 419
        }
      },
      "source": [
        "tests = X_test\n",
        "predict_result = pipe.predict(X_test)\n",
        "pd.DataFrame(zip(tests, predict_result), columns=['tweet', 'class'])"
      ],
      "execution_count": 156,
      "outputs": [
        {
          "output_type": "execute_result",
          "data": {
            "text/html": [
              "<div>\n",
              "<style scoped>\n",
              "    .dataframe tbody tr th:only-of-type {\n",
              "        vertical-align: middle;\n",
              "    }\n",
              "\n",
              "    .dataframe tbody tr th {\n",
              "        vertical-align: top;\n",
              "    }\n",
              "\n",
              "    .dataframe thead th {\n",
              "        text-align: right;\n",
              "    }\n",
              "</style>\n",
              "<table border=\"1\" class=\"dataframe\">\n",
              "  <thead>\n",
              "    <tr style=\"text-align: right;\">\n",
              "      <th></th>\n",
              "      <th>tweet</th>\n",
              "      <th>class</th>\n",
              "    </tr>\n",
              "  </thead>\n",
              "  <tbody>\n",
              "    <tr>\n",
              "      <th>0</th>\n",
              "      <td>vou procurar</td>\n",
              "      <td>0</td>\n",
              "    </tr>\n",
              "    <tr>\n",
              "      <th>1</th>\n",
              "      <td>vou comentar nada sobre jogo horrivel atgxfla</td>\n",
              "      <td>0</td>\n",
              "    </tr>\n",
              "    <tr>\n",
              "      <th>2</th>\n",
              "      <td>to colica doida pra sair aula</td>\n",
              "      <td>0</td>\n",
              "    </tr>\n",
              "    <tr>\n",
              "      <th>3</th>\n",
              "      <td>hm vou dormir dnv boa noite amgs</td>\n",
              "      <td>0</td>\n",
              "    </tr>\n",
              "    <tr>\n",
              "      <th>4</th>\n",
              "      <td>pois entao oq q vou dizer ne olavo ensinou que...</td>\n",
              "      <td>0</td>\n",
              "    </tr>\n",
              "    <tr>\n",
              "      <th>...</th>\n",
              "      <td>...</td>\n",
              "      <td>...</td>\n",
              "    </tr>\n",
              "    <tr>\n",
              "      <th>2490</th>\n",
              "      <td>oi lindo tudo bem voce  construir vida nova va...</td>\n",
              "      <td>0</td>\n",
              "    </tr>\n",
              "    <tr>\n",
              "      <th>2491</th>\n",
              "      <td>rt pessoa querendo humilhar bts falando pediam...</td>\n",
              "      <td>0</td>\n",
              "    </tr>\n",
              "    <tr>\n",
              "      <th>2492</th>\n",
              "      <td>vou adorar ver programas esportivos desmerecen...</td>\n",
              "      <td>0</td>\n",
              "    </tr>\n",
              "    <tr>\n",
              "      <th>2493</th>\n",
              "      <td>amanha levo ta vou levar</td>\n",
              "      <td>0</td>\n",
              "    </tr>\n",
              "    <tr>\n",
              "      <th>2494</th>\n",
              "      <td>desculpa pai desculpa mae hoje vou sarrar pro ...</td>\n",
              "      <td>0</td>\n",
              "    </tr>\n",
              "  </tbody>\n",
              "</table>\n",
              "<p>2495 rows × 2 columns</p>\n",
              "</div>"
            ],
            "text/plain": [
              "                                                  tweet  class\n",
              "0                                          vou procurar      0\n",
              "1         vou comentar nada sobre jogo horrivel atgxfla      0\n",
              "2                         to colica doida pra sair aula      0\n",
              "3                      hm vou dormir dnv boa noite amgs      0\n",
              "4     pois entao oq q vou dizer ne olavo ensinou que...      0\n",
              "...                                                 ...    ...\n",
              "2490  oi lindo tudo bem voce  construir vida nova va...      0\n",
              "2491  rt pessoa querendo humilhar bts falando pediam...      0\n",
              "2492  vou adorar ver programas esportivos desmerecen...      0\n",
              "2493                         amanha levo ta vou levar        0\n",
              "2494  desculpa pai desculpa mae hoje vou sarrar pro ...      0\n",
              "\n",
              "[2495 rows x 2 columns]"
            ]
          },
          "metadata": {
            "tags": []
          },
          "execution_count": 156
        }
      ]
    },
    {
      "cell_type": "code",
      "metadata": {
        "id": "H-dzQkyBHXtn",
        "outputId": "3525e6e4-5ab8-4b2f-b1dd-29dd49a70c83",
        "colab": {
          "base_uri": "https://localhost:8080/",
          "height": 170
        }
      },
      "source": [
        "test = [\n",
        "        (unidecode('Amanhã vou pro rolê com as amigas!!!')),\n",
        "        (unidecode('Estou indo no mercado')),\n",
        "        (unidecode('Alguém que ir comigo na festa semana que vem?')),\n",
        "        (unidecode('Tô na festa da Júlia e tá muito top!!!! Vem pra ca amiga')),\n",
        "        (unidecode('Daqui a pouco vou no hospital fazer exame de sangue')),\n",
        "        (unidecode('n estou saindo de casa pra nada')),\n",
        "        (unidecode('n estou saindo de casa')),\n",
        "        (unidecode('150 dias sem sair de casa. Quarentena tá me deixando loucooooo!!! :/'))\n",
        "       ]\n",
        "\n",
        "new_test = pd.DataFrame(test, columns=['text'])\n",
        "new_test = preprocessing(new_test['text'])\n",
        "'''new_test = new_test.apply(\n",
        "    lambda new_test: ' '.join([negative_phrase(phrase) for phrase in new_test])\n",
        ")'''\n",
        "new_test"
      ],
      "execution_count": 157,
      "outputs": [
        {
          "output_type": "execute_result",
          "data": {
            "text/plain": [
              "0                           amanha vou pro role amigas\n",
              "1                                   estou indo mercado\n",
              "2                    alguem ir comigo festa semana vem\n",
              "3               to festa julia ta top vem pra ca amiga\n",
              "4          daqui pouco vou hospital fazer exame sangue\n",
              "5                       nao estou saindo casa pra nada\n",
              "6                                nao estou saindo casa\n",
              "7        dias sem sair casa quarentena ta deixando ...\n",
              "dtype: object"
            ]
          },
          "metadata": {
            "tags": []
          },
          "execution_count": 157
        }
      ]
    },
    {
      "cell_type": "code",
      "metadata": {
        "id": "Xyz-Qtx_HXtw",
        "outputId": "fd346d5d-d685-4608-8fea-495b26f77cdd",
        "colab": {
          "base_uri": "https://localhost:8080/",
          "height": 297
        }
      },
      "source": [
        "predict_result = pipe.predict(new_test)\n",
        "pd.DataFrame(zip(new_test, predict_result), columns=['tweet', 'class'])"
      ],
      "execution_count": 158,
      "outputs": [
        {
          "output_type": "execute_result",
          "data": {
            "text/html": [
              "<div>\n",
              "<style scoped>\n",
              "    .dataframe tbody tr th:only-of-type {\n",
              "        vertical-align: middle;\n",
              "    }\n",
              "\n",
              "    .dataframe tbody tr th {\n",
              "        vertical-align: top;\n",
              "    }\n",
              "\n",
              "    .dataframe thead th {\n",
              "        text-align: right;\n",
              "    }\n",
              "</style>\n",
              "<table border=\"1\" class=\"dataframe\">\n",
              "  <thead>\n",
              "    <tr style=\"text-align: right;\">\n",
              "      <th></th>\n",
              "      <th>tweet</th>\n",
              "      <th>class</th>\n",
              "    </tr>\n",
              "  </thead>\n",
              "  <tbody>\n",
              "    <tr>\n",
              "      <th>0</th>\n",
              "      <td>amanha vou pro role amigas</td>\n",
              "      <td>0</td>\n",
              "    </tr>\n",
              "    <tr>\n",
              "      <th>1</th>\n",
              "      <td>estou indo mercado</td>\n",
              "      <td>0</td>\n",
              "    </tr>\n",
              "    <tr>\n",
              "      <th>2</th>\n",
              "      <td>alguem ir comigo festa semana vem</td>\n",
              "      <td>0</td>\n",
              "    </tr>\n",
              "    <tr>\n",
              "      <th>3</th>\n",
              "      <td>to festa julia ta top vem pra ca amiga</td>\n",
              "      <td>0</td>\n",
              "    </tr>\n",
              "    <tr>\n",
              "      <th>4</th>\n",
              "      <td>daqui pouco vou hospital fazer exame sangue</td>\n",
              "      <td>0</td>\n",
              "    </tr>\n",
              "    <tr>\n",
              "      <th>5</th>\n",
              "      <td>nao estou saindo casa pra nada</td>\n",
              "      <td>0</td>\n",
              "    </tr>\n",
              "    <tr>\n",
              "      <th>6</th>\n",
              "      <td>nao estou saindo casa</td>\n",
              "      <td>0</td>\n",
              "    </tr>\n",
              "    <tr>\n",
              "      <th>7</th>\n",
              "      <td>dias sem sair casa quarentena ta deixando ...</td>\n",
              "      <td>0</td>\n",
              "    </tr>\n",
              "  </tbody>\n",
              "</table>\n",
              "</div>"
            ],
            "text/plain": [
              "                                               tweet  class\n",
              "0                         amanha vou pro role amigas      0\n",
              "1                                 estou indo mercado      0\n",
              "2                  alguem ir comigo festa semana vem      0\n",
              "3             to festa julia ta top vem pra ca amiga      0\n",
              "4        daqui pouco vou hospital fazer exame sangue      0\n",
              "5                     nao estou saindo casa pra nada      0\n",
              "6                              nao estou saindo casa      0\n",
              "7      dias sem sair casa quarentena ta deixando ...      0"
            ]
          },
          "metadata": {
            "tags": []
          },
          "execution_count": 158
        }
      ]
    },
    {
      "cell_type": "markdown",
      "metadata": {
        "id": "6zqRz0M58Rxv"
      },
      "source": [
        "### **3.3 - Sequential Minimal Optimization**"
      ]
    },
    {
      "cell_type": "code",
      "metadata": {
        "id": "d6I6HZT58Rxw"
      },
      "source": [
        ""
      ],
      "execution_count": null,
      "outputs": []
    }
  ]
}