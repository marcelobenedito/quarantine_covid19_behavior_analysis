{
  "nbformat": 4,
  "nbformat_minor": 0,
  "metadata": {
    "colab": {
      "name": "quarantine_covid19_behavior_analysis",
      "provenance": [],
      "collapsed_sections": [],
      "mount_file_id": "1kofYesiQd6fnKQlHtO1hARhAwbaZS5eB",
      "authorship_tag": "ABX9TyOM9IaMNhpH27Er2izRlGpC",
      "include_colab_link": true
    },
    "kernelspec": {
      "name": "python3",
      "display_name": "Python 3"
    }
  },
  "cells": [
    {
      "cell_type": "markdown",
      "metadata": {
        "id": "view-in-github",
        "colab_type": "text"
      },
      "source": [
        "<a href=\"https://colab.research.google.com/github/marcelobenedito/quarantine_covid19_behavior_analysis/blob/master/quarantine_covid19_behavior_analysis.ipynb\" target=\"_parent\"><img src=\"https://colab.research.google.com/assets/colab-badge.svg\" alt=\"Open In Colab\"/></a>"
      ]
    },
    {
      "cell_type": "markdown",
      "metadata": {
        "id": "IoKhvChd0eNA",
        "colab_type": "text"
      },
      "source": [
        "#**QUARANTINE COVID-19 BEHAVIOR ANALYSIS**\n",
        "\n",
        "*It will be collect data tweets about COVID-19, quarantine and related about. This content will analysed to extract sentiment and main user behavior that makes don't stay home.*"
      ]
    },
    {
      "cell_type": "markdown",
      "metadata": {
        "id": "k7uqUJtTtHyV",
        "colab_type": "text"
      },
      "source": [
        "**Install libraries**"
      ]
    },
    {
      "cell_type": "code",
      "metadata": {
        "id": "md6SYud4tH9y",
        "colab_type": "code",
        "colab": {
          "base_uri": "https://localhost:8080/",
          "height": 68
        },
        "outputId": "e5a1b3c2-c195-4d67-e525-5fa3e08846aa"
      },
      "source": [
        "!pip3 install unidecode\n",
        "!pip3 install emoji\n",
        "!pip3 install joblib"
      ],
      "execution_count": 64,
      "outputs": [
        {
          "output_type": "stream",
          "text": [
            "Requirement already satisfied: unidecode in /usr/local/lib/python3.6/dist-packages (1.1.1)\n",
            "Requirement already satisfied: emoji in /usr/local/lib/python3.6/dist-packages (0.6.0)\n",
            "Requirement already satisfied: joblib in /usr/local/lib/python3.6/dist-packages (0.16.0)\n"
          ],
          "name": "stdout"
        }
      ]
    },
    {
      "cell_type": "markdown",
      "metadata": {
        "id": "SWSeZqYvFjl3",
        "colab_type": "text"
      },
      "source": [
        "**Required imports**"
      ]
    },
    {
      "cell_type": "code",
      "metadata": {
        "id": "Frum5NdVVPzd",
        "colab_type": "code",
        "colab": {
          "base_uri": "https://localhost:8080/",
          "height": 85
        },
        "outputId": "b119637e-40c0-4c6c-e81a-829618bc48ec"
      },
      "source": [
        "import datetime as dt\n",
        "import pandas as pd\n",
        "import numpy as np\n",
        "import string\n",
        "import tweepy\n",
        "import time\n",
        "import nltk\n",
        "import re\n",
        "from google.colab import drive\n",
        "from unidecode import unidecode\n",
        "from nltk.tokenize import word_tokenize\n",
        "from nltk.corpus import stopwords\n",
        "from emoji import demojize\n",
        "\n",
        "drive.mount('/content/drive')\n",
        "nltk.download('stopwords')"
      ],
      "execution_count": 91,
      "outputs": [
        {
          "output_type": "stream",
          "text": [
            "Drive already mounted at /content/drive; to attempt to forcibly remount, call drive.mount(\"/content/drive\", force_remount=True).\n",
            "[nltk_data] Downloading package stopwords to /root/nltk_data...\n",
            "[nltk_data]   Package stopwords is already up-to-date!\n"
          ],
          "name": "stdout"
        },
        {
          "output_type": "execute_result",
          "data": {
            "text/plain": [
              "True"
            ]
          },
          "metadata": {
            "tags": []
          },
          "execution_count": 91
        }
      ]
    },
    {
      "cell_type": "markdown",
      "metadata": {
        "id": "xcgjMRwh6yfe",
        "colab_type": "text"
      },
      "source": [
        "## **1. Extract tweets**"
      ]
    },
    {
      "cell_type": "code",
      "metadata": {
        "id": "zdYRMNSY6eXm",
        "colab_type": "code",
        "colab": {
          "base_uri": "https://localhost:8080/",
          "height": 34
        },
        "outputId": "43d25f45-2852-4c0a-8ffd-17d70c76e995"
      },
      "source": [
        "cd 'drive/My Drive/TCC/credentials'"
      ],
      "execution_count": 81,
      "outputs": [
        {
          "output_type": "stream",
          "text": [
            "/content/drive/My Drive/TCC/credentials\n"
          ],
          "name": "stdout"
        }
      ]
    },
    {
      "cell_type": "code",
      "metadata": {
        "id": "wyuLOEc26mIM",
        "colab_type": "code",
        "colab": {}
      },
      "source": [
        "from credentials import *"
      ],
      "execution_count": 86,
      "outputs": []
    },
    {
      "cell_type": "markdown",
      "metadata": {
        "id": "UiaZJKWawjuD",
        "colab_type": "text"
      },
      "source": [
        "**Handling the rate limit using cursors**"
      ]
    },
    {
      "cell_type": "code",
      "metadata": {
        "id": "51J1dHPZwZcO",
        "colab_type": "code",
        "colab": {}
      },
      "source": [
        "def limit_handled(cursor, finishes):\n",
        "    while True:\n",
        "        try:\n",
        "            if finishes == True:\n",
        "              return\n",
        "            yield cursor.next()\n",
        "        except (tweepy.RateLimitError, StopIteration):\n",
        "            if finishes == True:\n",
        "              return\n",
        "            else:\n",
        "              print('\\nRate limit for request api.')\n",
        "              time.sleep(15 * 60)"
      ],
      "execution_count": 119,
      "outputs": []
    },
    {
      "cell_type": "markdown",
      "metadata": {
        "id": "Gy0c6-DS9gYh",
        "colab_type": "text"
      },
      "source": [
        "**Create a funcion to search tweets**"
      ]
    },
    {
      "cell_type": "code",
      "metadata": {
        "id": "6q0rre9-9hNa",
        "colab_type": "code",
        "colab": {}
      },
      "source": [
        "def search_tweets(search_filter, since, until, limit, language):\n",
        "  tweets = []\n",
        "  finishes = False\n",
        "  for tweet in limit_handled(tweepy.Cursor(api.search, q=search_filter, since=since, lang=language).items(limit), finishes):\n",
        "    tweets.append(tweet)\n",
        "    print('\\r{} [INFO] {} collected tweets!'.format(dt.datetime.now(), len(tweets)))\n",
        "    if limit != None and len(tweets) == limit:\n",
        "      return tweets"
      ],
      "execution_count": 130,
      "outputs": []
    },
    {
      "cell_type": "markdown",
      "metadata": {
        "id": "vQNOvOcA4Odw",
        "colab_type": "text"
      },
      "source": [
        "**API authentication**"
      ]
    },
    {
      "cell_type": "code",
      "metadata": {
        "id": "VlQCTLh_4OHV",
        "colab_type": "code",
        "colab": {}
      },
      "source": [
        "auth = tweepy.OAuthHandler(CONSUMER_KEY, CONSUMER_SECRET)\n",
        "auth.set_access_token(ACCESS_TOKEN, ACCESS_TOKEN_SECRET)\n",
        "api = tweepy.API(auth)"
      ],
      "execution_count": 87,
      "outputs": []
    },
    {
      "cell_type": "markdown",
      "metadata": {
        "id": "0rw7hTfcGwi9",
        "colab_type": "text"
      },
      "source": [
        "**Defining filters used in search**"
      ]
    },
    {
      "cell_type": "code",
      "metadata": {
        "id": "odq6flq8HK4-",
        "colab_type": "code",
        "colab": {}
      },
      "source": [
        "\"\"\" não estou saindo \"não estou saindo\" (quarentena OR covid) (#covid-19 OR #coronavírus OR #coronavirus OR #covid OR #quarentena) lang:pt until:2020-01-31 since:2020-01-01 -filter:replies \"\"\"\n",
        "\n",
        "contains_both_words = ''\n",
        "exact_phrase = ''\n",
        "#contains_any_words = '(quarentena OR covid OR coronavirus OR isolamento OR festa OR role OR evento OR balada OR sair OR saindo)'\n",
        "contains_any_words = ('(quarentena OR covid OR covid-19 OR coronavirus OR coronavírus'\n",
        "                      ' OR isolamento OR isolado OR isolar OR festa OR rolê OR role'\n",
        "                      ' OR evento OR balada OR sair OR saindo OR indo OR vamos OR vou'\n",
        "                      ' OR churrasco OR churras OR churrascão OR balada OR rodeio OR show'\n",
        "                      ' OR viagem OR viajar)')\n",
        "contains_any_hashtags = ''\n",
        "no_retweet = '-filter:replies'\n",
        "language = 'pt'\n",
        "since = dt.date(2020,1,1)\n",
        "until = dt.date(2020,1,2)\n",
        "limit = 10\n",
        "\n",
        "search_filter = contains_both_words + ' ' + exact_phrase + ' ' + contains_any_words + ' ' + contains_any_hashtags + ' ' + no_retweet"
      ],
      "execution_count": 122,
      "outputs": []
    },
    {
      "cell_type": "markdown",
      "metadata": {
        "id": "YqNMr2yxIl6j",
        "colab_type": "text"
      },
      "source": [
        "**Extracting tweets based on search filter**"
      ]
    },
    {
      "cell_type": "code",
      "metadata": {
        "id": "vEIS2-32Ip_j",
        "colab_type": "code",
        "colab": {
          "base_uri": "https://localhost:8080/",
          "height": 187
        },
        "outputId": "e1025286-2f39-4718-e03e-4db6a4d1ddd2"
      },
      "source": [
        "tweets = search_tweets(search_filter, since, until, limit, language)"
      ],
      "execution_count": 131,
      "outputs": [
        {
          "output_type": "stream",
          "text": [
            "\r2020-08-17 01:27:26.030746 [INFO] 1 collected tweets!\n",
            "\r2020-08-17 01:27:26.030927 [INFO] 2 collected tweets!\n",
            "\r2020-08-17 01:27:26.030966 [INFO] 3 collected tweets!\n",
            "\r2020-08-17 01:27:26.030998 [INFO] 4 collected tweets!\n",
            "\r2020-08-17 01:27:26.031028 [INFO] 5 collected tweets!\n",
            "\r2020-08-17 01:27:26.031058 [INFO] 6 collected tweets!\n",
            "\r2020-08-17 01:27:26.031086 [INFO] 7 collected tweets!\n",
            "\r2020-08-17 01:27:26.031114 [INFO] 8 collected tweets!\n",
            "\r2020-08-17 01:27:26.031143 [INFO] 9 collected tweets!\n",
            "\r2020-08-17 01:27:26.031171 [INFO] 10 collected tweets!\n"
          ],
          "name": "stdout"
        }
      ]
    },
    {
      "cell_type": "markdown",
      "metadata": {
        "id": "WxeEFuANdoZQ",
        "colab_type": "text"
      },
      "source": [
        "**Transform Json to DataFrame and export to CSV file**"
      ]
    },
    {
      "cell_type": "code",
      "metadata": {
        "id": "0B1HDPGido0k",
        "colab_type": "code",
        "colab": {}
      },
      "source": [
        "df = pd.DataFrame({\n",
        "      'created_at': tweet.created_at,\n",
        "      'user_id': tweet.user.id, \n",
        "      'screen_name': tweet.user.screen_name,\n",
        "      'geo': tweet.geo,\n",
        "      'coordinates': tweet.coordinates,\n",
        "      'place': tweet.place,\n",
        "      'tweet_id': tweet.id, \n",
        "      'text': unidecode(tweet.text),\n",
        "      'class': ''\n",
        "  } for tweet in tweets)\n",
        "\n",
        "df.to_csv('tweets.csv', encoding = 'utf-8', index = False)"
      ],
      "execution_count": 144,
      "outputs": []
    },
    {
      "cell_type": "markdown",
      "metadata": {
        "id": "Xf-B19NsJLJP",
        "colab_type": "text"
      },
      "source": [
        "**Printing found tweets**"
      ]
    },
    {
      "cell_type": "code",
      "metadata": {
        "id": "x2dI6Q2SbYbP",
        "colab_type": "code",
        "colab": {
          "base_uri": "https://localhost:8080/",
          "height": 204
        },
        "outputId": "6b0cf8a2-2b92-4e2c-d652-ce1b3812b4ae"
      },
      "source": [
        "df.head()"
      ],
      "execution_count": 143,
      "outputs": [
        {
          "output_type": "execute_result",
          "data": {
            "text/html": [
              "<div>\n",
              "<style scoped>\n",
              "    .dataframe tbody tr th:only-of-type {\n",
              "        vertical-align: middle;\n",
              "    }\n",
              "\n",
              "    .dataframe tbody tr th {\n",
              "        vertical-align: top;\n",
              "    }\n",
              "\n",
              "    .dataframe thead th {\n",
              "        text-align: right;\n",
              "    }\n",
              "</style>\n",
              "<table border=\"1\" class=\"dataframe\">\n",
              "  <thead>\n",
              "    <tr style=\"text-align: right;\">\n",
              "      <th></th>\n",
              "      <th>created_at</th>\n",
              "      <th>user_id</th>\n",
              "      <th>screen_name</th>\n",
              "      <th>geo</th>\n",
              "      <th>coordinates</th>\n",
              "      <th>place</th>\n",
              "      <th>tweet_id</th>\n",
              "      <th>text</th>\n",
              "      <th>class</th>\n",
              "    </tr>\n",
              "  </thead>\n",
              "  <tbody>\n",
              "    <tr>\n",
              "      <th>0</th>\n",
              "      <td>2020-08-17 01:27:24</td>\n",
              "      <td>1005552181771145217</td>\n",
              "      <td>Yasmim_Crff</td>\n",
              "      <td>None</td>\n",
              "      <td>None</td>\n",
              "      <td>None</td>\n",
              "      <td>1295170329178968066</td>\n",
              "      <td>RT @polindasz: @Yasmim_Crff @heyaigu eu vou se...</td>\n",
              "      <td></td>\n",
              "    </tr>\n",
              "    <tr>\n",
              "      <th>1</th>\n",
              "      <td>2020-08-17 01:27:24</td>\n",
              "      <td>1269498693113327616</td>\n",
              "      <td>srhfer</td>\n",
              "      <td>None</td>\n",
              "      <td>None</td>\n",
              "      <td>None</td>\n",
              "      <td>1295170328885440513</td>\n",
              "      <td>RT @oemputecido: nao eh furar a quarentena se ...</td>\n",
              "      <td></td>\n",
              "    </tr>\n",
              "    <tr>\n",
              "      <th>2</th>\n",
              "      <td>2020-08-17 01:27:24</td>\n",
              "      <td>4874125163</td>\n",
              "      <td>alicv15</td>\n",
              "      <td>None</td>\n",
              "      <td>None</td>\n",
              "      <td>None</td>\n",
              "      <td>1295170328742825984</td>\n",
              "      <td>RT @marinhosaldanha: Vou falar bem baixinho e ...</td>\n",
              "      <td></td>\n",
              "    </tr>\n",
              "    <tr>\n",
              "      <th>3</th>\n",
              "      <td>2020-08-17 01:27:24</td>\n",
              "      <td>1205837072419971075</td>\n",
              "      <td>rhhaissa_</td>\n",
              "      <td>None</td>\n",
              "      <td>None</td>\n",
              "      <td>None</td>\n",
              "      <td>1295170328411373570</td>\n",
              "      <td>RT @falaapassos: ta ne = nao concordo com voce...</td>\n",
              "      <td></td>\n",
              "    </tr>\n",
              "    <tr>\n",
              "      <th>4</th>\n",
              "      <td>2020-08-17 01:27:24</td>\n",
              "      <td>1071802845073207297</td>\n",
              "      <td>kendlarrie</td>\n",
              "      <td>None</td>\n",
              "      <td>None</td>\n",
              "      <td>None</td>\n",
              "      <td>1295170328231120897</td>\n",
              "      <td>se eu disser que ja shippei Zarry eu vou ser c...</td>\n",
              "      <td></td>\n",
              "    </tr>\n",
              "  </tbody>\n",
              "</table>\n",
              "</div>"
            ],
            "text/plain": [
              "           created_at  ...  class\n",
              "0 2020-08-17 01:27:24  ...       \n",
              "1 2020-08-17 01:27:24  ...       \n",
              "2 2020-08-17 01:27:24  ...       \n",
              "3 2020-08-17 01:27:24  ...       \n",
              "4 2020-08-17 01:27:24  ...       \n",
              "\n",
              "[5 rows x 9 columns]"
            ]
          },
          "metadata": {
            "tags": []
          },
          "execution_count": 143
        }
      ]
    },
    {
      "cell_type": "markdown",
      "metadata": {
        "id": "FQ92bhg6VDuz",
        "colab_type": "text"
      },
      "source": [
        "## **2. Preprocessing**\n",
        "\n",
        "This process is used to preprocess the tweet text:\n",
        "\n",
        " - Tokenize words;\n",
        " - Remove all stop words; \n",
        " - Punctuaction rules; \n",
        " - Unused characters;\n",
        " - Links from tweets."
      ]
    },
    {
      "cell_type": "code",
      "metadata": {
        "id": "1z3s-jZIVEGS",
        "colab_type": "code",
        "colab": {}
      },
      "source": [
        "def preprocessing(pd_serie):\n",
        "\n",
        "  # Converting to lowercase\n",
        "  pd_serie = pd_serie.str.lower()\n",
        "\n",
        "  # Removing punctuation rules\n",
        "  pd_serie = pd_serie.str.translate(str.maketrans('', '', string.punctuation))\n",
        "\n",
        "  # Removing unused links\n",
        "  pd_serie = pd_serie.str.replace(r\"(http|@)\\S+\", \"\")\n",
        "\n",
        "  # Transform short negation form\n",
        "  pd_serie = pd_serie.str.replace(r\"(nao| n | ñ )\", 'não')\n",
        "\n",
        "  # Remove special chars\n",
        "  pd_serie = pd_serie.apply(demojize)\n",
        "  pd_serie = pd_serie.str.replace(r\"::\", \": :\")\n",
        "  pd_serie = pd_serie.str.replace(r\"’\", \"'\")\n",
        "  pd_serie = pd_serie.str.replace(r\"[^a-z\\':_]\", \" \")\n",
        "\n",
        "  # Remove repetitions\n",
        "  pattern = re.compile(r\"(.)\\1{2,}\", re.DOTALL)\n",
        "  pd_serie = pd_serie.str.replace(pattern, r\"\\1\")\n",
        "\n",
        "  # Removing stop words\n",
        "  sw = stopwords.words('portuguese')\n",
        "  sw.remove('não')\n",
        "\n",
        "  pd_serie = pd_serie.apply(\n",
        "      lambda pd_serie: ' '.join([word for word in pd_serie.split() if word not in sw])\n",
        "  )\n",
        "\n",
        "  return pd_serie"
      ],
      "execution_count": 134,
      "outputs": []
    },
    {
      "cell_type": "markdown",
      "metadata": {
        "id": "SyQl1I03hPE9",
        "colab_type": "text"
      },
      "source": [
        "**Add negation tag to make emphasis in a negative phrase**"
      ]
    },
    {
      "cell_type": "code",
      "metadata": {
        "id": "yw5uKVIfhPu5",
        "colab_type": "code",
        "colab": {}
      },
      "source": [
        "def negative_phrase(phrase):\n",
        "  negative_word = 'não'\n",
        "  has_nagative_word = False\n",
        "  new_phrase = []\n",
        "  for word in phrase.split():\n",
        "    if has_negative_word == True:\n",
        "      word = word + '_NÃO'\n",
        "    if word == negative_word:\n",
        "      has_negative_word = True\n",
        "    new_phrase.append(word)\n",
        "  return (' '.join(new_phrase))"
      ],
      "execution_count": 135,
      "outputs": []
    },
    {
      "cell_type": "markdown",
      "metadata": {
        "id": "HKPqylLAZ3PV",
        "colab_type": "text"
      },
      "source": [
        "**Open stored tweets from CSV file**"
      ]
    },
    {
      "cell_type": "code",
      "metadata": {
        "id": "78qAC2KDZ2fe",
        "colab_type": "code",
        "colab": {
          "base_uri": "https://localhost:8080/",
          "height": 204
        },
        "outputId": "811d7c94-cd65-443a-d098-e3cf7c6eeb4f"
      },
      "source": [
        "df = pd.read_csv('tweets.csv')\n",
        "df.head()"
      ],
      "execution_count": 136,
      "outputs": [
        {
          "output_type": "execute_result",
          "data": {
            "text/html": [
              "<div>\n",
              "<style scoped>\n",
              "    .dataframe tbody tr th:only-of-type {\n",
              "        vertical-align: middle;\n",
              "    }\n",
              "\n",
              "    .dataframe tbody tr th {\n",
              "        vertical-align: top;\n",
              "    }\n",
              "\n",
              "    .dataframe thead th {\n",
              "        text-align: right;\n",
              "    }\n",
              "</style>\n",
              "<table border=\"1\" class=\"dataframe\">\n",
              "  <thead>\n",
              "    <tr style=\"text-align: right;\">\n",
              "      <th></th>\n",
              "      <th>tweet_id</th>\n",
              "      <th>text</th>\n",
              "      <th>user_id</th>\n",
              "      <th>screen_name</th>\n",
              "      <th>geo</th>\n",
              "      <th>coordinates</th>\n",
              "      <th>place</th>\n",
              "      <th>created_at</th>\n",
              "    </tr>\n",
              "  </thead>\n",
              "  <tbody>\n",
              "    <tr>\n",
              "      <th>0</th>\n",
              "      <td>1295170329178968066</td>\n",
              "      <td>RT @polindasz: @Yasmim_Crff @heyaigu eu vou se...</td>\n",
              "      <td>1005552181771145217</td>\n",
              "      <td>Yasmim_Crff</td>\n",
              "      <td>NaN</td>\n",
              "      <td>NaN</td>\n",
              "      <td>NaN</td>\n",
              "      <td>2020-08-17 01:27:24</td>\n",
              "    </tr>\n",
              "    <tr>\n",
              "      <th>1</th>\n",
              "      <td>1295170328885440513</td>\n",
              "      <td>RT @oemputecido: nao eh furar a quarentena se ...</td>\n",
              "      <td>1269498693113327616</td>\n",
              "      <td>srhfer</td>\n",
              "      <td>NaN</td>\n",
              "      <td>NaN</td>\n",
              "      <td>NaN</td>\n",
              "      <td>2020-08-17 01:27:24</td>\n",
              "    </tr>\n",
              "    <tr>\n",
              "      <th>2</th>\n",
              "      <td>1295170328742825984</td>\n",
              "      <td>RT @marinhosaldanha: Vou falar bem baixinho e ...</td>\n",
              "      <td>4874125163</td>\n",
              "      <td>alicv15</td>\n",
              "      <td>NaN</td>\n",
              "      <td>NaN</td>\n",
              "      <td>NaN</td>\n",
              "      <td>2020-08-17 01:27:24</td>\n",
              "    </tr>\n",
              "    <tr>\n",
              "      <th>3</th>\n",
              "      <td>1295170328411373570</td>\n",
              "      <td>RT @falaapassos: ta ne = nao concordo com voce...</td>\n",
              "      <td>1205837072419971075</td>\n",
              "      <td>rhhaissa_</td>\n",
              "      <td>NaN</td>\n",
              "      <td>NaN</td>\n",
              "      <td>NaN</td>\n",
              "      <td>2020-08-17 01:27:24</td>\n",
              "    </tr>\n",
              "    <tr>\n",
              "      <th>4</th>\n",
              "      <td>1295170328231120897</td>\n",
              "      <td>se eu disser que ja shippei Zarry eu vou ser c...</td>\n",
              "      <td>1071802845073207297</td>\n",
              "      <td>kendlarrie</td>\n",
              "      <td>NaN</td>\n",
              "      <td>NaN</td>\n",
              "      <td>NaN</td>\n",
              "      <td>2020-08-17 01:27:24</td>\n",
              "    </tr>\n",
              "  </tbody>\n",
              "</table>\n",
              "</div>"
            ],
            "text/plain": [
              "              tweet_id  ...           created_at\n",
              "0  1295170329178968066  ...  2020-08-17 01:27:24\n",
              "1  1295170328885440513  ...  2020-08-17 01:27:24\n",
              "2  1295170328742825984  ...  2020-08-17 01:27:24\n",
              "3  1295170328411373570  ...  2020-08-17 01:27:24\n",
              "4  1295170328231120897  ...  2020-08-17 01:27:24\n",
              "\n",
              "[5 rows x 8 columns]"
            ]
          },
          "metadata": {
            "tags": []
          },
          "execution_count": 136
        }
      ]
    },
    {
      "cell_type": "markdown",
      "metadata": {
        "id": "fhKsfzWINh8s",
        "colab_type": "text"
      },
      "source": [
        "**Count lines in dataset**"
      ]
    },
    {
      "cell_type": "code",
      "metadata": {
        "id": "j-4NlBLnNhZm",
        "colab_type": "code",
        "colab": {
          "base_uri": "https://localhost:8080/",
          "height": 34
        },
        "outputId": "0ce2387a-4c11-4aa9-8c84-0282827b93d1"
      },
      "source": [
        "df.text.count()"
      ],
      "execution_count": 137,
      "outputs": [
        {
          "output_type": "execute_result",
          "data": {
            "text/plain": [
              "10"
            ]
          },
          "metadata": {
            "tags": []
          },
          "execution_count": 137
        }
      ]
    },
    {
      "cell_type": "markdown",
      "metadata": {
        "id": "wnSbm_92O5Oc",
        "colab_type": "text"
      },
      "source": [
        "**Removing duplicate lines**"
      ]
    },
    {
      "cell_type": "code",
      "metadata": {
        "id": "-_sDSborO4yK",
        "colab_type": "code",
        "colab": {}
      },
      "source": [
        "df.drop_duplicates(['text'], inplace=True)"
      ],
      "execution_count": 138,
      "outputs": []
    },
    {
      "cell_type": "markdown",
      "metadata": {
        "id": "ePRTWXKTSYlm",
        "colab_type": "text"
      },
      "source": [
        "**Count lines**"
      ]
    },
    {
      "cell_type": "code",
      "metadata": {
        "id": "MP0PhsEWSVjT",
        "colab_type": "code",
        "colab": {
          "base_uri": "https://localhost:8080/",
          "height": 34
        },
        "outputId": "717ba7c8-012f-4ff0-f0d8-9395e8efcbbd"
      },
      "source": [
        "df.text.count()"
      ],
      "execution_count": 139,
      "outputs": [
        {
          "output_type": "execute_result",
          "data": {
            "text/plain": [
              "10"
            ]
          },
          "metadata": {
            "tags": []
          },
          "execution_count": 139
        }
      ]
    },
    {
      "cell_type": "markdown",
      "metadata": {
        "id": "OCTyUI_0PdBe",
        "colab_type": "text"
      },
      "source": [
        "**Preproccessing data**"
      ]
    },
    {
      "cell_type": "code",
      "metadata": {
        "id": "f4kboFYWPdO9",
        "colab_type": "code",
        "colab": {
          "base_uri": "https://localhost:8080/",
          "height": 374
        },
        "outputId": "3773eeca-70fe-4c62-e74b-41131334c445"
      },
      "source": [
        "classes = df.category\n",
        "tweets = df.text\n",
        "tweets = preprocessing(tweets)\n",
        "tweets"
      ],
      "execution_count": null,
      "outputs": [
        {
          "output_type": "execute_result",
          "data": {
            "text/plain": [
              "0                       vou tchau pra vida festa ta bom\n",
              "1     quanto coisas demoram p sair cabeca eh inacred...\n",
              "2     momento pos role sempre baseado pensar histori...\n",
              "3                  deu janeiro quero sair emprego eai k\n",
              "4     vc diria cuida pq especial pau cu pede dsclp v...\n",
              "5           marca role desses chiques melhor vai direto\n",
              "6     ultimo role casa isa pictwittercom epxqizxqo a...\n",
              "7     so chama pra sair n quero estralar dedos faco ...\n",
              "8     falta mes pro aniversario ja estao planejando ...\n",
              "9     so vou festas faco playlist agr porque festa t...\n",
              "10    medo ser julgada sair quarto la menina come do...\n",
              "11             muitas fotos saindo merda vai ser grande\n",
              "12    encontrei melhor jogo festa todos tempos confi...\n",
              "13                                       sim chato role\n",
              "14    c sabe aniversario parceiro deg janeiro doce n...\n",
              "15    ano chorei onibus chorei sala aula chorei anda...\n",
              "16                     cabelo ta mto lindo vou ate sair\n",
              "17                    quero saber vai ser primeiro role\n",
              "18                    melhor role sempre fica pro final\n",
              "19       unica tristeza desse ano novo n sao dias festa\n",
              "Name: text, dtype: object"
            ]
          },
          "metadata": {
            "tags": []
          },
          "execution_count": 26
        }
      ]
    },
    {
      "cell_type": "markdown",
      "metadata": {
        "id": "VChh4lPc7TX3",
        "colab_type": "text"
      },
      "source": [
        "## **3. Training process**"
      ]
    },
    {
      "cell_type": "markdown",
      "metadata": {
        "colab_type": "text",
        "id": "c-7iWMMoQiFP"
      },
      "source": [
        "**Required libraries**"
      ]
    },
    {
      "cell_type": "code",
      "metadata": {
        "id": "VcIuD-tdQZxC",
        "colab_type": "code",
        "colab": {}
      },
      "source": [
        "import sklearn\n",
        "import joblib\n",
        "from sklearn import metrics\n",
        "from sklearn.pipeline import Pipeline\n",
        "from sklearn.neural_network import MLPClassifier\n",
        "from sklearn.model_selection import train_test_split\n",
        "from sklearn.model_selection import cross_val_predict\n",
        "from sklearn.feature_extraction.text import CountVectorizer"
      ],
      "execution_count": null,
      "outputs": []
    },
    {
      "cell_type": "markdown",
      "metadata": {
        "id": "WZyX4LkUogVS",
        "colab_type": "text"
      },
      "source": [
        "### **2.0.1 - MLPClassifier**"
      ]
    },
    {
      "cell_type": "markdown",
      "metadata": {
        "id": "NSeKiC1BSu6D",
        "colab_type": "text"
      },
      "source": [
        "**Create a Multilayer Perceptron Model**\n",
        "\n",
        "- Hidden layers = 1\n",
        "- Neurons = 10\n",
        "- Learning rate = 0.01\n",
        "- Max iteration = 500\n",
        "- Optimizer = Stochastic Gradient Descent with no batch-size"
      ]
    },
    {
      "cell_type": "code",
      "metadata": {
        "id": "kTEyzENHSrZ1",
        "colab_type": "code",
        "colab": {}
      },
      "source": [
        "\"\"\"mlp_model = MLPClassifier(hidden_layer_sizes=(10), \n",
        "                          solver='sgd', \n",
        "                          learning_rate_init=0.01,\n",
        "                          max_iter=500,\n",
        "                          random_state=113)\"\"\"\n",
        "\n",
        "mlp_model = MLPClassifier(learning_rate_init=0.01,\n",
        "                          random_state=42)                "
      ],
      "execution_count": null,
      "outputs": []
    },
    {
      "cell_type": "markdown",
      "metadata": {
        "id": "vTWAD5QhVa19",
        "colab_type": "text"
      },
      "source": [
        "**Create pipeline for MLP classifier**"
      ]
    },
    {
      "cell_type": "code",
      "metadata": {
        "id": "SOZI0X9eWbTR",
        "colab_type": "code",
        "colab": {}
      },
      "source": [
        "pipe = Pipeline([('vectorizer', CountVectorizer()), ('model', mlp_model)])\n",
        "\n",
        "pipe_bigrams = Pipeline([('vectorizer', CountVectorizer(ngram_range=(1,2))), ('model', mlp_model)])\n",
        "\n",
        "pipe_negation = Pipeline([\n",
        "  ('vectorizer', CountVectorizer(tokenizer=lambda phrase: negative_phrase(phrase))), \n",
        "  ('model', mlp_model)\n",
        "])"
      ],
      "execution_count": null,
      "outputs": []
    },
    {
      "cell_type": "markdown",
      "metadata": {
        "colab_type": "text",
        "id": "brpX4tQjRMw_"
      },
      "source": [
        "**Split x and y (feature and target)**"
      ]
    },
    {
      "cell_type": "code",
      "metadata": {
        "id": "Pk5l-vzJolHu",
        "colab_type": "code",
        "colab": {}
      },
      "source": [
        "train_size=0.8\n",
        "X_train, X_test, y_train, y_test = train_test_split(tweets,\n",
        "                                                    classes,\n",
        "                                                    train_size=train_size)"
      ],
      "execution_count": null,
      "outputs": []
    },
    {
      "cell_type": "code",
      "metadata": {
        "id": "bXRGNZQinqrW",
        "colab_type": "code",
        "colab": {
          "base_uri": "https://localhost:8080/",
          "height": 306
        },
        "outputId": "e755a137-1de1-4b1a-c484-6d854a2796e9"
      },
      "source": [
        "X_train"
      ],
      "execution_count": null,
      "outputs": [
        {
          "output_type": "execute_result",
          "data": {
            "text/plain": [
              "14    c sabe aniversario parceiro deg janeiro doce n...\n",
              "11             muitas fotos saindo merda vai ser grande\n",
              "4     vc diria cuida pq especial pau cu pede dsclp v...\n",
              "12    encontrei melhor jogo festa todos tempos confi...\n",
              "17                    quero saber vai ser primeiro role\n",
              "1     quanto coisas demoram p sair cabeca eh inacred...\n",
              "5           marca role desses chiques melhor vai direto\n",
              "16                     cabelo ta mto lindo vou ate sair\n",
              "15    ano chorei onibus chorei sala aula chorei anda...\n",
              "19       unica tristeza desse ano novo n sao dias festa\n",
              "8     falta mes pro aniversario ja estao planejando ...\n",
              "2     momento pos role sempre baseado pensar histori...\n",
              "6     ultimo role casa isa pictwittercom epxqizxqo a...\n",
              "0                       vou tchau pra vida festa ta bom\n",
              "10    medo ser julgada sair quarto la menina come do...\n",
              "7     so chama pra sair n quero estralar dedos faco ...\n",
              "Name: text, dtype: object"
            ]
          },
          "metadata": {
            "tags": []
          },
          "execution_count": 114
        }
      ]
    },
    {
      "cell_type": "code",
      "metadata": {
        "id": "eEGOCl6-ntcI",
        "colab_type": "code",
        "colab": {
          "base_uri": "https://localhost:8080/",
          "height": 173
        },
        "outputId": "e2852287-0481-49d0-b818-7d415ddff4ff"
      },
      "source": [
        "pd.DataFrame({'tweet': X_test, 'class': y_test})"
      ],
      "execution_count": null,
      "outputs": [
        {
          "output_type": "execute_result",
          "data": {
            "text/html": [
              "<div>\n",
              "<style scoped>\n",
              "    .dataframe tbody tr th:only-of-type {\n",
              "        vertical-align: middle;\n",
              "    }\n",
              "\n",
              "    .dataframe tbody tr th {\n",
              "        vertical-align: top;\n",
              "    }\n",
              "\n",
              "    .dataframe thead th {\n",
              "        text-align: right;\n",
              "    }\n",
              "</style>\n",
              "<table border=\"1\" class=\"dataframe\">\n",
              "  <thead>\n",
              "    <tr style=\"text-align: right;\">\n",
              "      <th></th>\n",
              "      <th>tweet</th>\n",
              "      <th>class</th>\n",
              "    </tr>\n",
              "  </thead>\n",
              "  <tbody>\n",
              "    <tr>\n",
              "      <th>3</th>\n",
              "      <td>deu janeiro quero sair emprego eai k</td>\n",
              "      <td>0</td>\n",
              "    </tr>\n",
              "    <tr>\n",
              "      <th>9</th>\n",
              "      <td>so vou festas faco playlist agr porque festa t...</td>\n",
              "      <td>1</td>\n",
              "    </tr>\n",
              "    <tr>\n",
              "      <th>18</th>\n",
              "      <td>melhor role sempre fica pro final</td>\n",
              "      <td>0</td>\n",
              "    </tr>\n",
              "    <tr>\n",
              "      <th>13</th>\n",
              "      <td>sim chato role</td>\n",
              "      <td>0</td>\n",
              "    </tr>\n",
              "  </tbody>\n",
              "</table>\n",
              "</div>"
            ],
            "text/plain": [
              "                                                tweet  class\n",
              "3                deu janeiro quero sair emprego eai k      0\n",
              "9   so vou festas faco playlist agr porque festa t...      1\n",
              "18                  melhor role sempre fica pro final      0\n",
              "13                                     sim chato role      0"
            ]
          },
          "metadata": {
            "tags": []
          },
          "execution_count": 116
        }
      ]
    },
    {
      "cell_type": "markdown",
      "metadata": {
        "id": "fS7SNnWwsdyM",
        "colab_type": "text"
      },
      "source": [
        "**Run training MLP model**"
      ]
    },
    {
      "cell_type": "code",
      "metadata": {
        "id": "1SjdXf7EseHv",
        "colab_type": "code",
        "colab": {
          "base_uri": "https://localhost:8080/",
          "height": 51
        },
        "outputId": "d455a381-10a3-41c1-ce74-c32a27bf4591"
      },
      "source": [
        "pipe.fit(X_train, y_train)\n",
        "\n",
        "accuracy = pipe.score(X_test, y_test)\n",
        "print('\\r{} [INFO] Accuracy of MLP model with testing data is {:.1%}\\n'\n",
        "  .format(dt.datetime.now(), (1-train_size), accuracy))"
      ],
      "execution_count": null,
      "outputs": [
        {
          "output_type": "stream",
          "text": [
            "\r2020-08-16 14:57:19.287339 [INFO] Accuracy of MLP model with testing data is 20.0%\n",
            "\n"
          ],
          "name": "stdout"
        }
      ]
    },
    {
      "cell_type": "markdown",
      "metadata": {
        "id": "-Ud25BTlnnhV",
        "colab_type": "text"
      },
      "source": [
        "**Cross validation**"
      ]
    },
    {
      "cell_type": "code",
      "metadata": {
        "id": "Ng1phUXpuOU1",
        "colab_type": "code",
        "colab": {}
      },
      "source": [
        "from sklearn.model_selection import KFold\n",
        "from sklearn.model_selection import cross_validate"
      ],
      "execution_count": null,
      "outputs": []
    },
    {
      "cell_type": "code",
      "metadata": {
        "id": "0qacPkvbnn2u",
        "colab_type": "code",
        "colab": {
          "base_uri": "https://localhost:8080/",
          "height": 51
        },
        "outputId": "391b3af1-aa6b-4b11-848b-b359ef8bda3f"
      },
      "source": [
        "kfold = KFold(n_splits=5, shuffle=True, random_state=42)\n",
        "results = cross_validate(pipe, X_train, y_train, cv=kfold)\n",
        "print(\"Average accuracy: %f (%f)\" %(results['test_score'].mean(), results['test_score'].std()))\n",
        "\n",
        "results = cross_val_predict(pipe, X_train, y_train, cv=kfold)\n",
        "metrics.accuracy_score(y_train, results)"
      ],
      "execution_count": null,
      "outputs": [
        {
          "output_type": "stream",
          "text": [
            "Average accuracy: 0.433333 (0.133333)\n"
          ],
          "name": "stdout"
        },
        {
          "output_type": "execute_result",
          "data": {
            "text/plain": [
              "0.4375"
            ]
          },
          "metadata": {
            "tags": []
          },
          "execution_count": 101
        }
      ]
    },
    {
      "cell_type": "markdown",
      "metadata": {
        "id": "wlf-tSrmouPt",
        "colab_type": "text"
      },
      "source": [
        ""
      ]
    },
    {
      "cell_type": "code",
      "metadata": {
        "id": "QRYLXOdvoung",
        "colab_type": "code",
        "colab": {
          "base_uri": "https://localhost:8080/",
          "height": 170
        },
        "outputId": "b8fed88d-f691-4118-d586-ca607086bb5d"
      },
      "source": [
        "print(metrics.classification_report(y_train, results, pipe.classes_))"
      ],
      "execution_count": null,
      "outputs": [
        {
          "output_type": "stream",
          "text": [
            "              precision    recall  f1-score   support\n",
            "\n",
            "           0       0.70      0.54      0.61        13\n",
            "           1       0.00      0.00      0.00         3\n",
            "\n",
            "    accuracy                           0.44        16\n",
            "   macro avg       0.35      0.27      0.30        16\n",
            "weighted avg       0.57      0.44      0.49        16\n",
            "\n"
          ],
          "name": "stdout"
        }
      ]
    },
    {
      "cell_type": "markdown",
      "metadata": {
        "id": "kyyxjlWnWtpm",
        "colab_type": "text"
      },
      "source": [
        "**Confusion matrix**"
      ]
    },
    {
      "cell_type": "code",
      "metadata": {
        "id": "Uoadc_T0W5tg",
        "colab_type": "code",
        "colab": {
          "base_uri": "https://localhost:8080/",
          "height": 102
        },
        "outputId": "80ef3ecc-b03b-4eda-f7eb-458299ba9f6d"
      },
      "source": [
        "print(pd.crosstab(y_train, results, rownames=['Real'], colnames=['Predicted'], margins=True))"
      ],
      "execution_count": null,
      "outputs": [
        {
          "output_type": "stream",
          "text": [
            "Predicted   0  1  All\n",
            "Real                 \n",
            "0           7  6   13\n",
            "1           3  0    3\n",
            "All        10  6   16\n"
          ],
          "name": "stdout"
        }
      ]
    },
    {
      "cell_type": "markdown",
      "metadata": {
        "id": "EwKUlxnBeHm1",
        "colab_type": "text"
      },
      "source": [
        "**Store MPL model in disk**"
      ]
    },
    {
      "cell_type": "code",
      "metadata": {
        "id": "i2AwkD3DeHHI",
        "colab_type": "code",
        "colab": {
          "base_uri": "https://localhost:8080/",
          "height": 34
        },
        "outputId": "34fd6f1a-c57d-48d3-de8a-17d19deaad4f"
      },
      "source": [
        "file_name = 'mlp_model'\n",
        "joblib.dump(pipe, file_name)\n",
        "print('\\rMPL model was saved sucessfully!')"
      ],
      "execution_count": null,
      "outputs": [
        {
          "output_type": "stream",
          "text": [
            "\rMPL model was saved sucessfully!\n"
          ],
          "name": "stdout"
        }
      ]
    },
    {
      "cell_type": "markdown",
      "metadata": {
        "id": "7SVAz9Mfgpic",
        "colab_type": "text"
      },
      "source": [
        "**Load MLP model**"
      ]
    },
    {
      "cell_type": "code",
      "metadata": {
        "id": "bn3G3aPygoO1",
        "colab_type": "code",
        "colab": {}
      },
      "source": [
        "pipe = joblib.load(file_name)"
      ],
      "execution_count": null,
      "outputs": []
    },
    {
      "cell_type": "markdown",
      "metadata": {
        "id": "07slT345Wy1w",
        "colab_type": "text"
      },
      "source": [
        "**Predict tweets**"
      ]
    },
    {
      "cell_type": "code",
      "metadata": {
        "id": "rxnj_CknoWgU",
        "colab_type": "code",
        "colab": {
          "base_uri": "https://localhost:8080/",
          "height": 173
        },
        "outputId": "65fb9078-a71c-485d-97e1-3ab5e6eeb22d"
      },
      "source": [
        "tests = X_test\n",
        "predict_result = pipe.predict(X_test)\n",
        "\n",
        "pd.DataFrame(zip(tests, predict_result), columns=['tweet', 'class'])"
      ],
      "execution_count": null,
      "outputs": [
        {
          "output_type": "execute_result",
          "data": {
            "text/html": [
              "<div>\n",
              "<style scoped>\n",
              "    .dataframe tbody tr th:only-of-type {\n",
              "        vertical-align: middle;\n",
              "    }\n",
              "\n",
              "    .dataframe tbody tr th {\n",
              "        vertical-align: top;\n",
              "    }\n",
              "\n",
              "    .dataframe thead th {\n",
              "        text-align: right;\n",
              "    }\n",
              "</style>\n",
              "<table border=\"1\" class=\"dataframe\">\n",
              "  <thead>\n",
              "    <tr style=\"text-align: right;\">\n",
              "      <th></th>\n",
              "      <th>tweet</th>\n",
              "      <th>class</th>\n",
              "    </tr>\n",
              "  </thead>\n",
              "  <tbody>\n",
              "    <tr>\n",
              "      <th>0</th>\n",
              "      <td>deu janeiro quero sair emprego eai k</td>\n",
              "      <td>0</td>\n",
              "    </tr>\n",
              "    <tr>\n",
              "      <th>1</th>\n",
              "      <td>so vou festas faco playlist agr porque festa t...</td>\n",
              "      <td>0</td>\n",
              "    </tr>\n",
              "    <tr>\n",
              "      <th>2</th>\n",
              "      <td>melhor role sempre fica pro final</td>\n",
              "      <td>0</td>\n",
              "    </tr>\n",
              "    <tr>\n",
              "      <th>3</th>\n",
              "      <td>sim chato role</td>\n",
              "      <td>0</td>\n",
              "    </tr>\n",
              "  </tbody>\n",
              "</table>\n",
              "</div>"
            ],
            "text/plain": [
              "                                               tweet  class\n",
              "0               deu janeiro quero sair emprego eai k      0\n",
              "1  so vou festas faco playlist agr porque festa t...      0\n",
              "2                  melhor role sempre fica pro final      0\n",
              "3                                     sim chato role      0"
            ]
          },
          "metadata": {
            "tags": []
          },
          "execution_count": 121
        }
      ]
    },
    {
      "cell_type": "markdown",
      "metadata": {
        "id": "Xaf95_65Upvl",
        "colab_type": "text"
      },
      "source": [
        "**Prob for each class**"
      ]
    },
    {
      "cell_type": "code",
      "metadata": {
        "id": "7eOgsatvUqWb",
        "colab_type": "code",
        "colab": {}
      },
      "source": [
        "print(pipe.classes_)\n",
        "pipe.predict_proba(X_test)"
      ],
      "execution_count": null,
      "outputs": []
    },
    {
      "cell_type": "markdown",
      "metadata": {
        "colab_type": "text",
        "id": "xKG3J_jC8LFI"
      },
      "source": [
        "### **2.0.2 - Naive Bayes**"
      ]
    },
    {
      "cell_type": "code",
      "metadata": {
        "colab_type": "code",
        "id": "pAJl5Pqi8LFJ",
        "colab": {}
      },
      "source": [
        ""
      ],
      "execution_count": null,
      "outputs": []
    },
    {
      "cell_type": "markdown",
      "metadata": {
        "colab_type": "text",
        "id": "6zqRz0M58Rxv"
      },
      "source": [
        "### **2.0.3 - Sequential Minimal Optimization**"
      ]
    },
    {
      "cell_type": "code",
      "metadata": {
        "colab_type": "code",
        "id": "d6I6HZT58Rxw",
        "colab": {}
      },
      "source": [
        ""
      ],
      "execution_count": null,
      "outputs": []
    },
    {
      "cell_type": "code",
      "metadata": {
        "id": "6wMx6twekDtm",
        "colab_type": "code",
        "colab": {}
      },
      "source": [
        "result_data = query_tweets(\"Trump\")"
      ],
      "execution_count": 60,
      "outputs": []
    },
    {
      "cell_type": "code",
      "metadata": {
        "id": "LWFQeR3pkV12",
        "colab_type": "code",
        "colab": {
          "base_uri": "https://localhost:8080/",
          "height": 34
        },
        "outputId": "4c8855df-6291-4f05-c5f3-c7760790c9ad"
      },
      "source": [
        "result_data"
      ],
      "execution_count": 61,
      "outputs": [
        {
          "output_type": "execute_result",
          "data": {
            "text/plain": [
              "[]"
            ]
          },
          "metadata": {
            "tags": []
          },
          "execution_count": 61
        }
      ]
    }
  ]
}