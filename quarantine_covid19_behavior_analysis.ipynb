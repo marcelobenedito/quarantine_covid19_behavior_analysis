{
  "nbformat": 4,
  "nbformat_minor": 0,
  "metadata": {
    "colab": {
      "name": "quarantine_covid19_behavior_analysis",
      "provenance": [],
      "collapsed_sections": [],
      "mount_file_id": "1kofYesiQd6fnKQlHtO1hARhAwbaZS5eB",
      "authorship_tag": "ABX9TyOkYoDrJQNi92WGgvr84+8l",
      "include_colab_link": true
    },
    "kernelspec": {
      "name": "python3",
      "display_name": "Python 3"
    }
  },
  "cells": [
    {
      "cell_type": "markdown",
      "metadata": {
        "id": "view-in-github",
        "colab_type": "text"
      },
      "source": [
        "<a href=\"https://colab.research.google.com/github/marcelobenedito/quarantine_covid19_behavior_analysis/blob/master/quarantine_covid19_behavior_analysis.ipynb\" target=\"_parent\"><img src=\"https://colab.research.google.com/assets/colab-badge.svg\" alt=\"Open In Colab\"/></a>"
      ]
    },
    {
      "cell_type": "markdown",
      "metadata": {
        "id": "IoKhvChd0eNA",
        "colab_type": "text"
      },
      "source": [
        "#**Quarantine Covid-19 Behavior Analysis**\n",
        "\n",
        "*It will be collect data tweets about COVID-19, quarantine and related about. This content will analysed to extract sentiment and main user behavior that makes don't stay home.*"
      ]
    },
    {
      "cell_type": "markdown",
      "metadata": {
        "id": "k7uqUJtTtHyV",
        "colab_type": "text"
      },
      "source": [
        "**Install libraries**"
      ]
    },
    {
      "cell_type": "code",
      "metadata": {
        "id": "md6SYud4tH9y",
        "colab_type": "code",
        "colab": {
          "base_uri": "https://localhost:8080/",
          "height": 578
        },
        "outputId": "de1e5fc5-7279-4685-cf06-26744be78250"
      },
      "source": [
        "!pip3 install unidecode\n",
        "!pip3 install googletrans\n",
        "!pip3 install twitterscraper\n",
        "!pip3 install emoji\n",
        "!pip3 install simplejson"
      ],
      "execution_count": 26,
      "outputs": [
        {
          "output_type": "stream",
          "text": [
            "Requirement already satisfied: unidecode in /usr/local/lib/python3.6/dist-packages (1.1.1)\n",
            "Requirement already satisfied: googletrans in /usr/local/lib/python3.6/dist-packages (3.0.0)\n",
            "Requirement already satisfied: httpx==0.13.3 in /usr/local/lib/python3.6/dist-packages (from googletrans) (0.13.3)\n",
            "Requirement already satisfied: certifi in /usr/local/lib/python3.6/dist-packages (from httpx==0.13.3->googletrans) (2020.6.20)\n",
            "Requirement already satisfied: idna==2.* in /usr/local/lib/python3.6/dist-packages (from httpx==0.13.3->googletrans) (2.10)\n",
            "Requirement already satisfied: chardet==3.* in /usr/local/lib/python3.6/dist-packages (from httpx==0.13.3->googletrans) (3.0.4)\n",
            "Requirement already satisfied: sniffio in /usr/local/lib/python3.6/dist-packages (from httpx==0.13.3->googletrans) (1.1.0)\n",
            "Requirement already satisfied: httpcore==0.9.* in /usr/local/lib/python3.6/dist-packages (from httpx==0.13.3->googletrans) (0.9.1)\n",
            "Requirement already satisfied: rfc3986<2,>=1.3 in /usr/local/lib/python3.6/dist-packages (from httpx==0.13.3->googletrans) (1.4.0)\n",
            "Requirement already satisfied: hstspreload in /usr/local/lib/python3.6/dist-packages (from httpx==0.13.3->googletrans) (2020.7.29)\n",
            "Requirement already satisfied: contextvars>=2.1; python_version < \"3.7\" in /usr/local/lib/python3.6/dist-packages (from sniffio->httpx==0.13.3->googletrans) (2.4)\n",
            "Requirement already satisfied: h2==3.* in /usr/local/lib/python3.6/dist-packages (from httpcore==0.9.*->httpx==0.13.3->googletrans) (3.2.0)\n",
            "Requirement already satisfied: h11<0.10,>=0.8 in /usr/local/lib/python3.6/dist-packages (from httpcore==0.9.*->httpx==0.13.3->googletrans) (0.9.0)\n",
            "Requirement already satisfied: immutables>=0.9 in /usr/local/lib/python3.6/dist-packages (from contextvars>=2.1; python_version < \"3.7\"->sniffio->httpx==0.13.3->googletrans) (0.14)\n",
            "Requirement already satisfied: hyperframe<6,>=5.2.0 in /usr/local/lib/python3.6/dist-packages (from h2==3.*->httpcore==0.9.*->httpx==0.13.3->googletrans) (5.2.0)\n",
            "Requirement already satisfied: hpack<4,>=3.0 in /usr/local/lib/python3.6/dist-packages (from h2==3.*->httpcore==0.9.*->httpx==0.13.3->googletrans) (3.0.0)\n",
            "Requirement already satisfied: twitterscraper in /usr/local/lib/python3.6/dist-packages (1.6.1)\n",
            "Requirement already satisfied: lxml in /usr/local/lib/python3.6/dist-packages (from twitterscraper) (4.2.6)\n",
            "Requirement already satisfied: requests in /usr/local/lib/python3.6/dist-packages (from twitterscraper) (2.23.0)\n",
            "Requirement already satisfied: billiard in /usr/local/lib/python3.6/dist-packages (from twitterscraper) (3.6.3.0)\n",
            "Requirement already satisfied: coala-utils~=0.5.0 in /usr/local/lib/python3.6/dist-packages (from twitterscraper) (0.5.1)\n",
            "Requirement already satisfied: bs4 in /usr/local/lib/python3.6/dist-packages (from twitterscraper) (0.0.1)\n",
            "Requirement already satisfied: idna<3,>=2.5 in /usr/local/lib/python3.6/dist-packages (from requests->twitterscraper) (2.10)\n",
            "Requirement already satisfied: certifi>=2017.4.17 in /usr/local/lib/python3.6/dist-packages (from requests->twitterscraper) (2020.6.20)\n",
            "Requirement already satisfied: chardet<4,>=3.0.2 in /usr/local/lib/python3.6/dist-packages (from requests->twitterscraper) (3.0.4)\n",
            "Requirement already satisfied: urllib3!=1.25.0,!=1.25.1,<1.26,>=1.21.1 in /usr/local/lib/python3.6/dist-packages (from requests->twitterscraper) (1.24.3)\n",
            "Requirement already satisfied: beautifulsoup4 in /usr/local/lib/python3.6/dist-packages (from bs4->twitterscraper) (4.6.3)\n",
            "Requirement already satisfied: emoji in /usr/local/lib/python3.6/dist-packages (0.5.4)\n",
            "Collecting simplejson\n",
            "\u001b[?25l  Downloading https://files.pythonhosted.org/packages/73/96/1e6b19045375890068d7342cbe280dd64ae73fd90b9735b5efb8d1e044a1/simplejson-3.17.2-cp36-cp36m-manylinux2010_x86_64.whl (127kB)\n",
            "\u001b[K     |████████████████████████████████| 133kB 2.8MB/s \n",
            "\u001b[?25hInstalling collected packages: simplejson\n",
            "Successfully installed simplejson-3.17.2\n"
          ],
          "name": "stdout"
        }
      ]
    },
    {
      "cell_type": "markdown",
      "metadata": {
        "id": "SWSeZqYvFjl3",
        "colab_type": "text"
      },
      "source": [
        "**Required imports**"
      ]
    },
    {
      "cell_type": "code",
      "metadata": {
        "id": "Frum5NdVVPzd",
        "colab_type": "code",
        "colab": {}
      },
      "source": [
        "import string\n",
        "import time\n",
        "import datetime as dt\n",
        "import numpy as np\n",
        "import pandas as pd\n",
        "import re\n",
        "import nltk\n",
        "import simplejson\n",
        "from unidecode import unidecode\n",
        "from googletrans import Translator\n",
        "from twitterscraper import query_tweets\n",
        "from nltk.tokenize import word_tokenize\n",
        "from nltk.corpus import stopwords\n",
        "from emoji import demojize"
      ],
      "execution_count": 104,
      "outputs": []
    },
    {
      "cell_type": "markdown",
      "metadata": {
        "id": "Gy0c6-DS9gYh",
        "colab_type": "text"
      },
      "source": [
        "**Create a funcion to search tweets**"
      ]
    },
    {
      "cell_type": "code",
      "metadata": {
        "id": "6q0rre9-9hNa",
        "colab_type": "code",
        "colab": {}
      },
      "source": [
        "def search_tweets(search_filter, since, until, limit, language):\n",
        "  return query_tweets(query = search_filter, begindate = since, enddate = until, limit = limit, lang = language)"
      ],
      "execution_count": 3,
      "outputs": []
    },
    {
      "cell_type": "markdown",
      "metadata": {
        "id": "0rw7hTfcGwi9",
        "colab_type": "text"
      },
      "source": [
        "**Defining filters used in search**"
      ]
    },
    {
      "cell_type": "code",
      "metadata": {
        "id": "odq6flq8HK4-",
        "colab_type": "code",
        "colab": {}
      },
      "source": [
        "\"\"\" não estou saindo \"não estou saindo\" (quarentena OR covid) (#covid-19 OR #coronavírus OR #coronavirus OR #covid OR #quarentena) lang:pt until:2020-01-31 since:2020-01-01 -filter:replies \"\"\"\n",
        "\n",
        "contains_both_words = ''\n",
        "exact_phrase = ''\n",
        "contains_any_words = '(quarentena OR covid OR coronavirus OR isolamento OR festa OR role OR evento OR balada OR sair OR saindo)'\n",
        "contains_any_hashtags = ''\n",
        "no_retweet = '-filter:replies'\n",
        "language = 'pt'\n",
        "since = dt.date(2020,1,1)\n",
        "until = dt.date(2020,1,2)\n",
        "limit = None\n",
        "\n",
        "search_filter = contains_both_words + ' ' + exact_phrase + ' ' + contains_any_words + ' ' + contains_any_hashtags + ' ' + no_retweet"
      ],
      "execution_count": 36,
      "outputs": []
    },
    {
      "cell_type": "markdown",
      "metadata": {
        "id": "YqNMr2yxIl6j",
        "colab_type": "text"
      },
      "source": [
        "**Extracting tweets based on search filter**"
      ]
    },
    {
      "cell_type": "code",
      "metadata": {
        "id": "vEIS2-32Ip_j",
        "colab_type": "code",
        "colab": {
          "base_uri": "https://localhost:8080/",
          "height": 1000
        },
        "outputId": "cc9c8d58-e5e3-4cef-ca58-ac19168fabf7"
      },
      "source": [
        "tweets = search_tweets(search_filter, since, until, limit, language)"
      ],
      "execution_count": 37,
      "outputs": [
        {
          "output_type": "stream",
          "text": [
            "Failed to parse JSON while requesting \"https://twitter.com/i/search/timeline?f=tweets&vertical=default&include_available_features=1&include_entities=1&reset_error_state=false&src=typd&max_position=TWEET-1212523827260993538-1212523890540462082&q=%20%20(quarentena%20OR%20covid%20OR%20coronavirus%20OR%20isolamento%20OR%20festa%20OR%20role%20OR%20evento%20OR%20balada%20OR%20sair%20OR%20saindo)%20%20-filter%3Areplies%20since%3A2020-01-01%20until%3A2020-01-02&l=pt\"\n",
            "Traceback (most recent call last):\n",
            "  File \"/usr/local/lib/python3.6/dist-packages/twitterscraper/query.py\", line 107, in query_single_page\n",
            "    html = json_resp['items_html'] or ''\n",
            "KeyError: 'items_html'\n",
            "Failed to parse JSON while requesting \"https://twitter.com/i/search/timeline?f=tweets&vertical=default&include_available_features=1&include_entities=1&reset_error_state=false&src=typd&max_position=TWEET-1212523827260993538-1212523890540462082&q=%20%20(quarentena%20OR%20covid%20OR%20coronavirus%20OR%20isolamento%20OR%20festa%20OR%20role%20OR%20evento%20OR%20balada%20OR%20sair%20OR%20saindo)%20%20-filter%3Areplies%20since%3A2020-01-01%20until%3A2020-01-02&l=pt\"\n",
            "Traceback (most recent call last):\n",
            "  File \"/usr/local/lib/python3.6/dist-packages/twitterscraper/query.py\", line 107, in query_single_page\n",
            "    html = json_resp['items_html'] or ''\n",
            "KeyError: 'items_html'\n",
            "Failed to parse JSON while requesting \"https://twitter.com/i/search/timeline?f=tweets&vertical=default&include_available_features=1&include_entities=1&reset_error_state=false&src=typd&max_position=TWEET-1212523827260993538-1212523890540462082&q=%20%20(quarentena%20OR%20covid%20OR%20coronavirus%20OR%20isolamento%20OR%20festa%20OR%20role%20OR%20evento%20OR%20balada%20OR%20sair%20OR%20saindo)%20%20-filter%3Areplies%20since%3A2020-01-01%20until%3A2020-01-02&l=pt\"\n",
            "Traceback (most recent call last):\n",
            "  File \"/usr/local/lib/python3.6/dist-packages/twitterscraper/query.py\", line 107, in query_single_page\n",
            "    html = json_resp['items_html'] or ''\n",
            "KeyError: 'items_html'\n",
            "Failed to parse JSON while requesting \"https://twitter.com/i/search/timeline?f=tweets&vertical=default&include_available_features=1&include_entities=1&reset_error_state=false&src=typd&max_position=TWEET-1212523827260993538-1212523890540462082&q=%20%20(quarentena%20OR%20covid%20OR%20coronavirus%20OR%20isolamento%20OR%20festa%20OR%20role%20OR%20evento%20OR%20balada%20OR%20sair%20OR%20saindo)%20%20-filter%3Areplies%20since%3A2020-01-01%20until%3A2020-01-02&l=pt\"\n",
            "Traceback (most recent call last):\n",
            "  File \"/usr/local/lib/python3.6/dist-packages/twitterscraper/query.py\", line 107, in query_single_page\n",
            "    html = json_resp['items_html'] or ''\n",
            "KeyError: 'items_html'\n",
            "Failed to parse JSON while requesting \"https://twitter.com/i/search/timeline?f=tweets&vertical=default&include_available_features=1&include_entities=1&reset_error_state=false&src=typd&max_position=TWEET-1212523827260993538-1212523890540462082&q=%20%20(quarentena%20OR%20covid%20OR%20coronavirus%20OR%20isolamento%20OR%20festa%20OR%20role%20OR%20evento%20OR%20balada%20OR%20sair%20OR%20saindo)%20%20-filter%3Areplies%20since%3A2020-01-01%20until%3A2020-01-02&l=pt\"\n",
            "Traceback (most recent call last):\n",
            "  File \"/usr/local/lib/python3.6/dist-packages/twitterscraper/query.py\", line 107, in query_single_page\n",
            "    html = json_resp['items_html'] or ''\n",
            "KeyError: 'items_html'\n",
            "Failed to parse JSON while requesting \"https://twitter.com/i/search/timeline?f=tweets&vertical=default&include_available_features=1&include_entities=1&reset_error_state=false&src=typd&max_position=TWEET-1212523827260993538-1212523890540462082&q=%20%20(quarentena%20OR%20covid%20OR%20coronavirus%20OR%20isolamento%20OR%20festa%20OR%20role%20OR%20evento%20OR%20balada%20OR%20sair%20OR%20saindo)%20%20-filter%3Areplies%20since%3A2020-01-01%20until%3A2020-01-02&l=pt\"\n",
            "Traceback (most recent call last):\n",
            "  File \"/usr/local/lib/python3.6/dist-packages/twitterscraper/query.py\", line 107, in query_single_page\n",
            "    html = json_resp['items_html'] or ''\n",
            "KeyError: 'items_html'\n",
            "Failed to parse JSON while requesting \"https://twitter.com/i/search/timeline?f=tweets&vertical=default&include_available_features=1&include_entities=1&reset_error_state=false&src=typd&max_position=TWEET-1212523827260993538-1212523890540462082&q=%20%20(quarentena%20OR%20covid%20OR%20coronavirus%20OR%20isolamento%20OR%20festa%20OR%20role%20OR%20evento%20OR%20balada%20OR%20sair%20OR%20saindo)%20%20-filter%3Areplies%20since%3A2020-01-01%20until%3A2020-01-02&l=pt\"\n",
            "Traceback (most recent call last):\n",
            "  File \"/usr/local/lib/python3.6/dist-packages/twitterscraper/query.py\", line 107, in query_single_page\n",
            "    html = json_resp['items_html'] or ''\n",
            "KeyError: 'items_html'\n",
            "Failed to parse JSON while requesting \"https://twitter.com/i/search/timeline?f=tweets&vertical=default&include_available_features=1&include_entities=1&reset_error_state=false&src=typd&max_position=TWEET-1212523827260993538-1212523890540462082&q=%20%20(quarentena%20OR%20covid%20OR%20coronavirus%20OR%20isolamento%20OR%20festa%20OR%20role%20OR%20evento%20OR%20balada%20OR%20sair%20OR%20saindo)%20%20-filter%3Areplies%20since%3A2020-01-01%20until%3A2020-01-02&l=pt\"\n",
            "Traceback (most recent call last):\n",
            "  File \"/usr/local/lib/python3.6/dist-packages/twitterscraper/query.py\", line 107, in query_single_page\n",
            "    html = json_resp['items_html'] or ''\n",
            "KeyError: 'items_html'\n",
            "Failed to parse JSON while requesting \"https://twitter.com/i/search/timeline?f=tweets&vertical=default&include_available_features=1&include_entities=1&reset_error_state=false&src=typd&max_position=TWEET-1212523827260993538-1212523890540462082&q=%20%20(quarentena%20OR%20covid%20OR%20coronavirus%20OR%20isolamento%20OR%20festa%20OR%20role%20OR%20evento%20OR%20balada%20OR%20sair%20OR%20saindo)%20%20-filter%3Areplies%20since%3A2020-01-01%20until%3A2020-01-02&l=pt\"\n",
            "Traceback (most recent call last):\n",
            "  File \"/usr/local/lib/python3.6/dist-packages/twitterscraper/query.py\", line 107, in query_single_page\n",
            "    html = json_resp['items_html'] or ''\n",
            "KeyError: 'items_html'\n",
            "Failed to parse JSON while requesting \"https://twitter.com/i/search/timeline?f=tweets&vertical=default&include_available_features=1&include_entities=1&reset_error_state=false&src=typd&max_position=TWEET-1212523827260993538-1212523890540462082&q=%20%20(quarentena%20OR%20covid%20OR%20coronavirus%20OR%20isolamento%20OR%20festa%20OR%20role%20OR%20evento%20OR%20balada%20OR%20sair%20OR%20saindo)%20%20-filter%3Areplies%20since%3A2020-01-01%20until%3A2020-01-02&l=pt\"\n",
            "Traceback (most recent call last):\n",
            "  File \"/usr/local/lib/python3.6/dist-packages/twitterscraper/query.py\", line 107, in query_single_page\n",
            "    html = json_resp['items_html'] or ''\n",
            "KeyError: 'items_html'\n",
            "Failed to parse JSON while requesting \"https://twitter.com/i/search/timeline?f=tweets&vertical=default&include_available_features=1&include_entities=1&reset_error_state=false&src=typd&max_position=TWEET-1212523827260993538-1212523890540462082&q=%20%20(quarentena%20OR%20covid%20OR%20coronavirus%20OR%20isolamento%20OR%20festa%20OR%20role%20OR%20evento%20OR%20balada%20OR%20sair%20OR%20saindo)%20%20-filter%3Areplies%20since%3A2020-01-01%20until%3A2020-01-02&l=pt\"\n",
            "Traceback (most recent call last):\n",
            "  File \"/usr/local/lib/python3.6/dist-packages/twitterscraper/query.py\", line 107, in query_single_page\n",
            "    html = json_resp['items_html'] or ''\n",
            "KeyError: 'items_html'\n",
            "Failed to parse JSON while requesting \"https://twitter.com/i/search/timeline?f=tweets&vertical=default&include_available_features=1&include_entities=1&reset_error_state=false&src=typd&max_position=TWEET-1212523827260993538-1212523890540462082&q=%20%20(quarentena%20OR%20covid%20OR%20coronavirus%20OR%20isolamento%20OR%20festa%20OR%20role%20OR%20evento%20OR%20balada%20OR%20sair%20OR%20saindo)%20%20-filter%3Areplies%20since%3A2020-01-01%20until%3A2020-01-02&l=pt\"\n",
            "Traceback (most recent call last):\n",
            "  File \"/usr/local/lib/python3.6/dist-packages/twitterscraper/query.py\", line 107, in query_single_page\n",
            "    html = json_resp['items_html'] or ''\n",
            "KeyError: 'items_html'\n",
            "Failed to parse JSON while requesting \"https://twitter.com/i/search/timeline?f=tweets&vertical=default&include_available_features=1&include_entities=1&reset_error_state=false&src=typd&max_position=TWEET-1212523827260993538-1212523890540462082&q=%20%20(quarentena%20OR%20covid%20OR%20coronavirus%20OR%20isolamento%20OR%20festa%20OR%20role%20OR%20evento%20OR%20balada%20OR%20sair%20OR%20saindo)%20%20-filter%3Areplies%20since%3A2020-01-01%20until%3A2020-01-02&l=pt\"\n",
            "Traceback (most recent call last):\n",
            "  File \"/usr/local/lib/python3.6/dist-packages/twitterscraper/query.py\", line 107, in query_single_page\n",
            "    html = json_resp['items_html'] or ''\n",
            "KeyError: 'items_html'\n",
            "Failed to parse JSON while requesting \"https://twitter.com/i/search/timeline?f=tweets&vertical=default&include_available_features=1&include_entities=1&reset_error_state=false&src=typd&max_position=TWEET-1212523827260993538-1212523890540462082&q=%20%20(quarentena%20OR%20covid%20OR%20coronavirus%20OR%20isolamento%20OR%20festa%20OR%20role%20OR%20evento%20OR%20balada%20OR%20sair%20OR%20saindo)%20%20-filter%3Areplies%20since%3A2020-01-01%20until%3A2020-01-02&l=pt\"\n",
            "Traceback (most recent call last):\n",
            "  File \"/usr/local/lib/python3.6/dist-packages/twitterscraper/query.py\", line 107, in query_single_page\n",
            "    html = json_resp['items_html'] or ''\n",
            "KeyError: 'items_html'\n",
            "Failed to parse JSON while requesting \"https://twitter.com/i/search/timeline?f=tweets&vertical=default&include_available_features=1&include_entities=1&reset_error_state=false&src=typd&max_position=TWEET-1212523827260993538-1212523890540462082&q=%20%20(quarentena%20OR%20covid%20OR%20coronavirus%20OR%20isolamento%20OR%20festa%20OR%20role%20OR%20evento%20OR%20balada%20OR%20sair%20OR%20saindo)%20%20-filter%3Areplies%20since%3A2020-01-01%20until%3A2020-01-02&l=pt\"\n",
            "Traceback (most recent call last):\n",
            "  File \"/usr/local/lib/python3.6/dist-packages/twitterscraper/query.py\", line 107, in query_single_page\n",
            "    html = json_resp['items_html'] or ''\n",
            "KeyError: 'items_html'\n",
            "Failed to parse JSON while requesting \"https://twitter.com/i/search/timeline?f=tweets&vertical=default&include_available_features=1&include_entities=1&reset_error_state=false&src=typd&max_position=TWEET-1212523827260993538-1212523890540462082&q=%20%20(quarentena%20OR%20covid%20OR%20coronavirus%20OR%20isolamento%20OR%20festa%20OR%20role%20OR%20evento%20OR%20balada%20OR%20sair%20OR%20saindo)%20%20-filter%3Areplies%20since%3A2020-01-01%20until%3A2020-01-02&l=pt\"\n",
            "Traceback (most recent call last):\n",
            "  File \"/usr/local/lib/python3.6/dist-packages/twitterscraper/query.py\", line 107, in query_single_page\n",
            "    html = json_resp['items_html'] or ''\n",
            "KeyError: 'items_html'\n",
            "Failed to parse JSON while requesting \"https://twitter.com/i/search/timeline?f=tweets&vertical=default&include_available_features=1&include_entities=1&reset_error_state=false&src=typd&max_position=TWEET-1212523827260993538-1212523890540462082&q=%20%20(quarentena%20OR%20covid%20OR%20coronavirus%20OR%20isolamento%20OR%20festa%20OR%20role%20OR%20evento%20OR%20balada%20OR%20sair%20OR%20saindo)%20%20-filter%3Areplies%20since%3A2020-01-01%20until%3A2020-01-02&l=pt\"\n",
            "Traceback (most recent call last):\n",
            "  File \"/usr/local/lib/python3.6/dist-packages/twitterscraper/query.py\", line 107, in query_single_page\n",
            "    html = json_resp['items_html'] or ''\n",
            "KeyError: 'items_html'\n",
            "Failed to parse JSON while requesting \"https://twitter.com/i/search/timeline?f=tweets&vertical=default&include_available_features=1&include_entities=1&reset_error_state=false&src=typd&max_position=TWEET-1212523827260993538-1212523890540462082&q=%20%20(quarentena%20OR%20covid%20OR%20coronavirus%20OR%20isolamento%20OR%20festa%20OR%20role%20OR%20evento%20OR%20balada%20OR%20sair%20OR%20saindo)%20%20-filter%3Areplies%20since%3A2020-01-01%20until%3A2020-01-02&l=pt\"\n",
            "Traceback (most recent call last):\n",
            "  File \"/usr/local/lib/python3.6/dist-packages/twitterscraper/query.py\", line 107, in query_single_page\n",
            "    html = json_resp['items_html'] or ''\n",
            "KeyError: 'items_html'\n",
            "Failed to parse JSON while requesting \"https://twitter.com/i/search/timeline?f=tweets&vertical=default&include_available_features=1&include_entities=1&reset_error_state=false&src=typd&max_position=TWEET-1212523827260993538-1212523890540462082&q=%20%20(quarentena%20OR%20covid%20OR%20coronavirus%20OR%20isolamento%20OR%20festa%20OR%20role%20OR%20evento%20OR%20balada%20OR%20sair%20OR%20saindo)%20%20-filter%3Areplies%20since%3A2020-01-01%20until%3A2020-01-02&l=pt\"\n",
            "Traceback (most recent call last):\n",
            "  File \"/usr/local/lib/python3.6/dist-packages/twitterscraper/query.py\", line 107, in query_single_page\n",
            "    html = json_resp['items_html'] or ''\n",
            "KeyError: 'items_html'\n",
            "Failed to parse JSON while requesting \"https://twitter.com/i/search/timeline?f=tweets&vertical=default&include_available_features=1&include_entities=1&reset_error_state=false&src=typd&max_position=TWEET-1212523827260993538-1212523890540462082&q=%20%20(quarentena%20OR%20covid%20OR%20coronavirus%20OR%20isolamento%20OR%20festa%20OR%20role%20OR%20evento%20OR%20balada%20OR%20sair%20OR%20saindo)%20%20-filter%3Areplies%20since%3A2020-01-01%20until%3A2020-01-02&l=pt\"\n",
            "Traceback (most recent call last):\n",
            "  File \"/usr/local/lib/python3.6/dist-packages/twitterscraper/query.py\", line 107, in query_single_page\n",
            "    html = json_resp['items_html'] or ''\n",
            "KeyError: 'items_html'\n",
            "Failed to parse JSON while requesting \"https://twitter.com/i/search/timeline?f=tweets&vertical=default&include_available_features=1&include_entities=1&reset_error_state=false&src=typd&max_position=TWEET-1212523827260993538-1212523890540462082&q=%20%20(quarentena%20OR%20covid%20OR%20coronavirus%20OR%20isolamento%20OR%20festa%20OR%20role%20OR%20evento%20OR%20balada%20OR%20sair%20OR%20saindo)%20%20-filter%3Areplies%20since%3A2020-01-01%20until%3A2020-01-02&l=pt\"\n",
            "Traceback (most recent call last):\n",
            "  File \"/usr/local/lib/python3.6/dist-packages/twitterscraper/query.py\", line 107, in query_single_page\n",
            "    html = json_resp['items_html'] or ''\n",
            "KeyError: 'items_html'\n",
            "Failed to parse JSON while requesting \"https://twitter.com/i/search/timeline?f=tweets&vertical=default&include_available_features=1&include_entities=1&reset_error_state=false&src=typd&max_position=TWEET-1212523827260993538-1212523890540462082&q=%20%20(quarentena%20OR%20covid%20OR%20coronavirus%20OR%20isolamento%20OR%20festa%20OR%20role%20OR%20evento%20OR%20balada%20OR%20sair%20OR%20saindo)%20%20-filter%3Areplies%20since%3A2020-01-01%20until%3A2020-01-02&l=pt\"\n",
            "Traceback (most recent call last):\n",
            "  File \"/usr/local/lib/python3.6/dist-packages/twitterscraper/query.py\", line 107, in query_single_page\n",
            "    html = json_resp['items_html'] or ''\n",
            "KeyError: 'items_html'\n",
            "Failed to parse JSON while requesting \"https://twitter.com/i/search/timeline?f=tweets&vertical=default&include_available_features=1&include_entities=1&reset_error_state=false&src=typd&max_position=TWEET-1212523827260993538-1212523890540462082&q=%20%20(quarentena%20OR%20covid%20OR%20coronavirus%20OR%20isolamento%20OR%20festa%20OR%20role%20OR%20evento%20OR%20balada%20OR%20sair%20OR%20saindo)%20%20-filter%3Areplies%20since%3A2020-01-01%20until%3A2020-01-02&l=pt\"\n",
            "Traceback (most recent call last):\n",
            "  File \"/usr/local/lib/python3.6/dist-packages/twitterscraper/query.py\", line 107, in query_single_page\n",
            "    html = json_resp['items_html'] or ''\n",
            "KeyError: 'items_html'\n",
            "Failed to parse JSON while requesting \"https://twitter.com/i/search/timeline?f=tweets&vertical=default&include_available_features=1&include_entities=1&reset_error_state=false&src=typd&max_position=TWEET-1212523827260993538-1212523890540462082&q=%20%20(quarentena%20OR%20covid%20OR%20coronavirus%20OR%20isolamento%20OR%20festa%20OR%20role%20OR%20evento%20OR%20balada%20OR%20sair%20OR%20saindo)%20%20-filter%3Areplies%20since%3A2020-01-01%20until%3A2020-01-02&l=pt\"\n",
            "Traceback (most recent call last):\n",
            "  File \"/usr/local/lib/python3.6/dist-packages/twitterscraper/query.py\", line 107, in query_single_page\n",
            "    html = json_resp['items_html'] or ''\n",
            "KeyError: 'items_html'\n",
            "Failed to parse JSON while requesting \"https://twitter.com/i/search/timeline?f=tweets&vertical=default&include_available_features=1&include_entities=1&reset_error_state=false&src=typd&max_position=TWEET-1212523827260993538-1212523890540462082&q=%20%20(quarentena%20OR%20covid%20OR%20coronavirus%20OR%20isolamento%20OR%20festa%20OR%20role%20OR%20evento%20OR%20balada%20OR%20sair%20OR%20saindo)%20%20-filter%3Areplies%20since%3A2020-01-01%20until%3A2020-01-02&l=pt\"\n",
            "Traceback (most recent call last):\n",
            "  File \"/usr/local/lib/python3.6/dist-packages/twitterscraper/query.py\", line 107, in query_single_page\n",
            "    html = json_resp['items_html'] or ''\n",
            "KeyError: 'items_html'\n",
            "Failed to parse JSON while requesting \"https://twitter.com/i/search/timeline?f=tweets&vertical=default&include_available_features=1&include_entities=1&reset_error_state=false&src=typd&max_position=TWEET-1212523827260993538-1212523890540462082&q=%20%20(quarentena%20OR%20covid%20OR%20coronavirus%20OR%20isolamento%20OR%20festa%20OR%20role%20OR%20evento%20OR%20balada%20OR%20sair%20OR%20saindo)%20%20-filter%3Areplies%20since%3A2020-01-01%20until%3A2020-01-02&l=pt\"\n",
            "Traceback (most recent call last):\n",
            "  File \"/usr/local/lib/python3.6/dist-packages/twitterscraper/query.py\", line 107, in query_single_page\n",
            "    html = json_resp['items_html'] or ''\n",
            "KeyError: 'items_html'\n",
            "Failed to parse JSON while requesting \"https://twitter.com/i/search/timeline?f=tweets&vertical=default&include_available_features=1&include_entities=1&reset_error_state=false&src=typd&max_position=TWEET-1212523827260993538-1212523890540462082&q=%20%20(quarentena%20OR%20covid%20OR%20coronavirus%20OR%20isolamento%20OR%20festa%20OR%20role%20OR%20evento%20OR%20balada%20OR%20sair%20OR%20saindo)%20%20-filter%3Areplies%20since%3A2020-01-01%20until%3A2020-01-02&l=pt\"\n",
            "Traceback (most recent call last):\n",
            "  File \"/usr/local/lib/python3.6/dist-packages/twitterscraper/query.py\", line 107, in query_single_page\n",
            "    html = json_resp['items_html'] or ''\n",
            "KeyError: 'items_html'\n",
            "Failed to parse JSON while requesting \"https://twitter.com/i/search/timeline?f=tweets&vertical=default&include_available_features=1&include_entities=1&reset_error_state=false&src=typd&max_position=TWEET-1212523827260993538-1212523890540462082&q=%20%20(quarentena%20OR%20covid%20OR%20coronavirus%20OR%20isolamento%20OR%20festa%20OR%20role%20OR%20evento%20OR%20balada%20OR%20sair%20OR%20saindo)%20%20-filter%3Areplies%20since%3A2020-01-01%20until%3A2020-01-02&l=pt\"\n",
            "Traceback (most recent call last):\n",
            "  File \"/usr/local/lib/python3.6/dist-packages/twitterscraper/query.py\", line 107, in query_single_page\n",
            "    html = json_resp['items_html'] or ''\n",
            "KeyError: 'items_html'\n",
            "Failed to parse JSON while requesting \"https://twitter.com/i/search/timeline?f=tweets&vertical=default&include_available_features=1&include_entities=1&reset_error_state=false&src=typd&max_position=TWEET-1212523827260993538-1212523890540462082&q=%20%20(quarentena%20OR%20covid%20OR%20coronavirus%20OR%20isolamento%20OR%20festa%20OR%20role%20OR%20evento%20OR%20balada%20OR%20sair%20OR%20saindo)%20%20-filter%3Areplies%20since%3A2020-01-01%20until%3A2020-01-02&l=pt\"\n",
            "Traceback (most recent call last):\n",
            "  File \"/usr/local/lib/python3.6/dist-packages/twitterscraper/query.py\", line 107, in query_single_page\n",
            "    html = json_resp['items_html'] or ''\n",
            "KeyError: 'items_html'\n",
            "Failed to parse JSON while requesting \"https://twitter.com/i/search/timeline?f=tweets&vertical=default&include_available_features=1&include_entities=1&reset_error_state=false&src=typd&max_position=TWEET-1212523827260993538-1212523890540462082&q=%20%20(quarentena%20OR%20covid%20OR%20coronavirus%20OR%20isolamento%20OR%20festa%20OR%20role%20OR%20evento%20OR%20balada%20OR%20sair%20OR%20saindo)%20%20-filter%3Areplies%20since%3A2020-01-01%20until%3A2020-01-02&l=pt\"\n",
            "Traceback (most recent call last):\n",
            "  File \"/usr/local/lib/python3.6/dist-packages/twitterscraper/query.py\", line 107, in query_single_page\n",
            "    html = json_resp['items_html'] or ''\n",
            "KeyError: 'items_html'\n",
            "Failed to parse JSON while requesting \"https://twitter.com/i/search/timeline?f=tweets&vertical=default&include_available_features=1&include_entities=1&reset_error_state=false&src=typd&max_position=TWEET-1212523827260993538-1212523890540462082&q=%20%20(quarentena%20OR%20covid%20OR%20coronavirus%20OR%20isolamento%20OR%20festa%20OR%20role%20OR%20evento%20OR%20balada%20OR%20sair%20OR%20saindo)%20%20-filter%3Areplies%20since%3A2020-01-01%20until%3A2020-01-02&l=pt\"\n",
            "Traceback (most recent call last):\n",
            "  File \"/usr/local/lib/python3.6/dist-packages/twitterscraper/query.py\", line 107, in query_single_page\n",
            "    html = json_resp['items_html'] or ''\n",
            "KeyError: 'items_html'\n",
            "Failed to parse JSON while requesting \"https://twitter.com/i/search/timeline?f=tweets&vertical=default&include_available_features=1&include_entities=1&reset_error_state=false&src=typd&max_position=TWEET-1212523827260993538-1212523890540462082&q=%20%20(quarentena%20OR%20covid%20OR%20coronavirus%20OR%20isolamento%20OR%20festa%20OR%20role%20OR%20evento%20OR%20balada%20OR%20sair%20OR%20saindo)%20%20-filter%3Areplies%20since%3A2020-01-01%20until%3A2020-01-02&l=pt\"\n",
            "Traceback (most recent call last):\n",
            "  File \"/usr/local/lib/python3.6/dist-packages/twitterscraper/query.py\", line 107, in query_single_page\n",
            "    html = json_resp['items_html'] or ''\n",
            "KeyError: 'items_html'\n",
            "Failed to parse JSON while requesting \"https://twitter.com/i/search/timeline?f=tweets&vertical=default&include_available_features=1&include_entities=1&reset_error_state=false&src=typd&max_position=TWEET-1212523827260993538-1212523890540462082&q=%20%20(quarentena%20OR%20covid%20OR%20coronavirus%20OR%20isolamento%20OR%20festa%20OR%20role%20OR%20evento%20OR%20balada%20OR%20sair%20OR%20saindo)%20%20-filter%3Areplies%20since%3A2020-01-01%20until%3A2020-01-02&l=pt\"\n",
            "Traceback (most recent call last):\n",
            "  File \"/usr/local/lib/python3.6/dist-packages/twitterscraper/query.py\", line 107, in query_single_page\n",
            "    html = json_resp['items_html'] or ''\n",
            "KeyError: 'items_html'\n",
            "Failed to parse JSON while requesting \"https://twitter.com/i/search/timeline?f=tweets&vertical=default&include_available_features=1&include_entities=1&reset_error_state=false&src=typd&max_position=TWEET-1212523827260993538-1212523890540462082&q=%20%20(quarentena%20OR%20covid%20OR%20coronavirus%20OR%20isolamento%20OR%20festa%20OR%20role%20OR%20evento%20OR%20balada%20OR%20sair%20OR%20saindo)%20%20-filter%3Areplies%20since%3A2020-01-01%20until%3A2020-01-02&l=pt\"\n",
            "Traceback (most recent call last):\n",
            "  File \"/usr/local/lib/python3.6/dist-packages/twitterscraper/query.py\", line 107, in query_single_page\n",
            "    html = json_resp['items_html'] or ''\n",
            "KeyError: 'items_html'\n",
            "Failed to parse JSON while requesting \"https://twitter.com/i/search/timeline?f=tweets&vertical=default&include_available_features=1&include_entities=1&reset_error_state=false&src=typd&max_position=TWEET-1212523827260993538-1212523890540462082&q=%20%20(quarentena%20OR%20covid%20OR%20coronavirus%20OR%20isolamento%20OR%20festa%20OR%20role%20OR%20evento%20OR%20balada%20OR%20sair%20OR%20saindo)%20%20-filter%3Areplies%20since%3A2020-01-01%20until%3A2020-01-02&l=pt\"\n",
            "Traceback (most recent call last):\n",
            "  File \"/usr/local/lib/python3.6/dist-packages/twitterscraper/query.py\", line 107, in query_single_page\n",
            "    html = json_resp['items_html'] or ''\n",
            "KeyError: 'items_html'\n",
            "Failed to parse JSON while requesting \"https://twitter.com/i/search/timeline?f=tweets&vertical=default&include_available_features=1&include_entities=1&reset_error_state=false&src=typd&max_position=TWEET-1212523827260993538-1212523890540462082&q=%20%20(quarentena%20OR%20covid%20OR%20coronavirus%20OR%20isolamento%20OR%20festa%20OR%20role%20OR%20evento%20OR%20balada%20OR%20sair%20OR%20saindo)%20%20-filter%3Areplies%20since%3A2020-01-01%20until%3A2020-01-02&l=pt\"\n",
            "Traceback (most recent call last):\n",
            "  File \"/usr/local/lib/python3.6/dist-packages/twitterscraper/query.py\", line 107, in query_single_page\n",
            "    html = json_resp['items_html'] or ''\n",
            "KeyError: 'items_html'\n",
            "Failed to parse JSON while requesting \"https://twitter.com/i/search/timeline?f=tweets&vertical=default&include_available_features=1&include_entities=1&reset_error_state=false&src=typd&max_position=TWEET-1212523827260993538-1212523890540462082&q=%20%20(quarentena%20OR%20covid%20OR%20coronavirus%20OR%20isolamento%20OR%20festa%20OR%20role%20OR%20evento%20OR%20balada%20OR%20sair%20OR%20saindo)%20%20-filter%3Areplies%20since%3A2020-01-01%20until%3A2020-01-02&l=pt\"\n",
            "Traceback (most recent call last):\n",
            "  File \"/usr/local/lib/python3.6/dist-packages/twitterscraper/query.py\", line 107, in query_single_page\n",
            "    html = json_resp['items_html'] or ''\n",
            "KeyError: 'items_html'\n",
            "Failed to parse JSON while requesting \"https://twitter.com/i/search/timeline?f=tweets&vertical=default&include_available_features=1&include_entities=1&reset_error_state=false&src=typd&max_position=TWEET-1212523827260993538-1212523890540462082&q=%20%20(quarentena%20OR%20covid%20OR%20coronavirus%20OR%20isolamento%20OR%20festa%20OR%20role%20OR%20evento%20OR%20balada%20OR%20sair%20OR%20saindo)%20%20-filter%3Areplies%20since%3A2020-01-01%20until%3A2020-01-02&l=pt\"\n",
            "Traceback (most recent call last):\n",
            "  File \"/usr/local/lib/python3.6/dist-packages/twitterscraper/query.py\", line 107, in query_single_page\n",
            "    html = json_resp['items_html'] or ''\n",
            "KeyError: 'items_html'\n",
            "Failed to parse JSON while requesting \"https://twitter.com/i/search/timeline?f=tweets&vertical=default&include_available_features=1&include_entities=1&reset_error_state=false&src=typd&max_position=TWEET-1212523827260993538-1212523890540462082&q=%20%20(quarentena%20OR%20covid%20OR%20coronavirus%20OR%20isolamento%20OR%20festa%20OR%20role%20OR%20evento%20OR%20balada%20OR%20sair%20OR%20saindo)%20%20-filter%3Areplies%20since%3A2020-01-01%20until%3A2020-01-02&l=pt\"\n",
            "Traceback (most recent call last):\n",
            "  File \"/usr/local/lib/python3.6/dist-packages/twitterscraper/query.py\", line 107, in query_single_page\n",
            "    html = json_resp['items_html'] or ''\n",
            "KeyError: 'items_html'\n",
            "Failed to parse JSON while requesting \"https://twitter.com/i/search/timeline?f=tweets&vertical=default&include_available_features=1&include_entities=1&reset_error_state=false&src=typd&max_position=TWEET-1212523827260993538-1212523890540462082&q=%20%20(quarentena%20OR%20covid%20OR%20coronavirus%20OR%20isolamento%20OR%20festa%20OR%20role%20OR%20evento%20OR%20balada%20OR%20sair%20OR%20saindo)%20%20-filter%3Areplies%20since%3A2020-01-01%20until%3A2020-01-02&l=pt\"\n",
            "Traceback (most recent call last):\n",
            "  File \"/usr/local/lib/python3.6/dist-packages/twitterscraper/query.py\", line 107, in query_single_page\n",
            "    html = json_resp['items_html'] or ''\n",
            "KeyError: 'items_html'\n",
            "Failed to parse JSON while requesting \"https://twitter.com/i/search/timeline?f=tweets&vertical=default&include_available_features=1&include_entities=1&reset_error_state=false&src=typd&max_position=TWEET-1212523827260993538-1212523890540462082&q=%20%20(quarentena%20OR%20covid%20OR%20coronavirus%20OR%20isolamento%20OR%20festa%20OR%20role%20OR%20evento%20OR%20balada%20OR%20sair%20OR%20saindo)%20%20-filter%3Areplies%20since%3A2020-01-01%20until%3A2020-01-02&l=pt\"\n",
            "Traceback (most recent call last):\n",
            "  File \"/usr/local/lib/python3.6/dist-packages/twitterscraper/query.py\", line 107, in query_single_page\n",
            "    html = json_resp['items_html'] or ''\n",
            "KeyError: 'items_html'\n",
            "Failed to parse JSON while requesting \"https://twitter.com/i/search/timeline?f=tweets&vertical=default&include_available_features=1&include_entities=1&reset_error_state=false&src=typd&max_position=TWEET-1212523827260993538-1212523890540462082&q=%20%20(quarentena%20OR%20covid%20OR%20coronavirus%20OR%20isolamento%20OR%20festa%20OR%20role%20OR%20evento%20OR%20balada%20OR%20sair%20OR%20saindo)%20%20-filter%3Areplies%20since%3A2020-01-01%20until%3A2020-01-02&l=pt\"\n",
            "Traceback (most recent call last):\n",
            "  File \"/usr/local/lib/python3.6/dist-packages/twitterscraper/query.py\", line 107, in query_single_page\n",
            "    html = json_resp['items_html'] or ''\n",
            "KeyError: 'items_html'\n",
            "Failed to parse JSON while requesting \"https://twitter.com/i/search/timeline?f=tweets&vertical=default&include_available_features=1&include_entities=1&reset_error_state=false&src=typd&max_position=TWEET-1212523827260993538-1212523890540462082&q=%20%20(quarentena%20OR%20covid%20OR%20coronavirus%20OR%20isolamento%20OR%20festa%20OR%20role%20OR%20evento%20OR%20balada%20OR%20sair%20OR%20saindo)%20%20-filter%3Areplies%20since%3A2020-01-01%20until%3A2020-01-02&l=pt\"\n",
            "Traceback (most recent call last):\n",
            "  File \"/usr/local/lib/python3.6/dist-packages/twitterscraper/query.py\", line 107, in query_single_page\n",
            "    html = json_resp['items_html'] or ''\n",
            "KeyError: 'items_html'\n",
            "Failed to parse JSON while requesting \"https://twitter.com/i/search/timeline?f=tweets&vertical=default&include_available_features=1&include_entities=1&reset_error_state=false&src=typd&max_position=TWEET-1212523827260993538-1212523890540462082&q=%20%20(quarentena%20OR%20covid%20OR%20coronavirus%20OR%20isolamento%20OR%20festa%20OR%20role%20OR%20evento%20OR%20balada%20OR%20sair%20OR%20saindo)%20%20-filter%3Areplies%20since%3A2020-01-01%20until%3A2020-01-02&l=pt\"\n",
            "Traceback (most recent call last):\n",
            "  File \"/usr/local/lib/python3.6/dist-packages/twitterscraper/query.py\", line 107, in query_single_page\n",
            "    html = json_resp['items_html'] or ''\n",
            "KeyError: 'items_html'\n",
            "Failed to parse JSON while requesting \"https://twitter.com/i/search/timeline?f=tweets&vertical=default&include_available_features=1&include_entities=1&reset_error_state=false&src=typd&max_position=TWEET-1212523827260993538-1212523890540462082&q=%20%20(quarentena%20OR%20covid%20OR%20coronavirus%20OR%20isolamento%20OR%20festa%20OR%20role%20OR%20evento%20OR%20balada%20OR%20sair%20OR%20saindo)%20%20-filter%3Areplies%20since%3A2020-01-01%20until%3A2020-01-02&l=pt\"\n",
            "Traceback (most recent call last):\n",
            "  File \"/usr/local/lib/python3.6/dist-packages/twitterscraper/query.py\", line 107, in query_single_page\n",
            "    html = json_resp['items_html'] or ''\n",
            "KeyError: 'items_html'\n",
            "Failed to parse JSON while requesting \"https://twitter.com/i/search/timeline?f=tweets&vertical=default&include_available_features=1&include_entities=1&reset_error_state=false&src=typd&max_position=TWEET-1212523827260993538-1212523890540462082&q=%20%20(quarentena%20OR%20covid%20OR%20coronavirus%20OR%20isolamento%20OR%20festa%20OR%20role%20OR%20evento%20OR%20balada%20OR%20sair%20OR%20saindo)%20%20-filter%3Areplies%20since%3A2020-01-01%20until%3A2020-01-02&l=pt\"\n",
            "Traceback (most recent call last):\n",
            "  File \"/usr/local/lib/python3.6/dist-packages/twitterscraper/query.py\", line 107, in query_single_page\n",
            "    html = json_resp['items_html'] or ''\n",
            "KeyError: 'items_html'\n",
            "Failed to parse JSON while requesting \"https://twitter.com/i/search/timeline?f=tweets&vertical=default&include_available_features=1&include_entities=1&reset_error_state=false&src=typd&max_position=TWEET-1212523827260993538-1212523890540462082&q=%20%20(quarentena%20OR%20covid%20OR%20coronavirus%20OR%20isolamento%20OR%20festa%20OR%20role%20OR%20evento%20OR%20balada%20OR%20sair%20OR%20saindo)%20%20-filter%3Areplies%20since%3A2020-01-01%20until%3A2020-01-02&l=pt\"\n",
            "Traceback (most recent call last):\n",
            "  File \"/usr/local/lib/python3.6/dist-packages/twitterscraper/query.py\", line 107, in query_single_page\n",
            "    html = json_resp['items_html'] or ''\n",
            "KeyError: 'items_html'\n",
            "Failed to parse JSON while requesting \"https://twitter.com/i/search/timeline?f=tweets&vertical=default&include_available_features=1&include_entities=1&reset_error_state=false&src=typd&max_position=TWEET-1212523827260993538-1212523890540462082&q=%20%20(quarentena%20OR%20covid%20OR%20coronavirus%20OR%20isolamento%20OR%20festa%20OR%20role%20OR%20evento%20OR%20balada%20OR%20sair%20OR%20saindo)%20%20-filter%3Areplies%20since%3A2020-01-01%20until%3A2020-01-02&l=pt\"\n",
            "Traceback (most recent call last):\n",
            "  File \"/usr/local/lib/python3.6/dist-packages/twitterscraper/query.py\", line 107, in query_single_page\n",
            "    html = json_resp['items_html'] or ''\n",
            "KeyError: 'items_html'\n",
            "Failed to parse JSON while requesting \"https://twitter.com/i/search/timeline?f=tweets&vertical=default&include_available_features=1&include_entities=1&reset_error_state=false&src=typd&max_position=TWEET-1212523827260993538-1212523890540462082&q=%20%20(quarentena%20OR%20covid%20OR%20coronavirus%20OR%20isolamento%20OR%20festa%20OR%20role%20OR%20evento%20OR%20balada%20OR%20sair%20OR%20saindo)%20%20-filter%3Areplies%20since%3A2020-01-01%20until%3A2020-01-02&l=pt\"\n",
            "Traceback (most recent call last):\n",
            "  File \"/usr/local/lib/python3.6/dist-packages/twitterscraper/query.py\", line 107, in query_single_page\n",
            "    html = json_resp['items_html'] or ''\n",
            "KeyError: 'items_html'\n",
            "Failed to parse JSON while requesting \"https://twitter.com/i/search/timeline?f=tweets&vertical=default&include_available_features=1&include_entities=1&reset_error_state=false&src=typd&max_position=TWEET-1212523827260993538-1212523890540462082&q=%20%20(quarentena%20OR%20covid%20OR%20coronavirus%20OR%20isolamento%20OR%20festa%20OR%20role%20OR%20evento%20OR%20balada%20OR%20sair%20OR%20saindo)%20%20-filter%3Areplies%20since%3A2020-01-01%20until%3A2020-01-02&l=pt\"\n",
            "Traceback (most recent call last):\n",
            "  File \"/usr/local/lib/python3.6/dist-packages/twitterscraper/query.py\", line 107, in query_single_page\n",
            "    html = json_resp['items_html'] or ''\n",
            "KeyError: 'items_html'\n",
            "Failed to parse JSON while requesting \"https://twitter.com/i/search/timeline?f=tweets&vertical=default&include_available_features=1&include_entities=1&reset_error_state=false&src=typd&max_position=TWEET-1212523827260993538-1212523890540462082&q=%20%20(quarentena%20OR%20covid%20OR%20coronavirus%20OR%20isolamento%20OR%20festa%20OR%20role%20OR%20evento%20OR%20balada%20OR%20sair%20OR%20saindo)%20%20-filter%3Areplies%20since%3A2020-01-01%20until%3A2020-01-02&l=pt\"\n",
            "Traceback (most recent call last):\n",
            "  File \"/usr/local/lib/python3.6/dist-packages/twitterscraper/query.py\", line 107, in query_single_page\n",
            "    html = json_resp['items_html'] or ''\n",
            "KeyError: 'items_html'\n"
          ],
          "name": "stderr"
        }
      ]
    },
    {
      "cell_type": "markdown",
      "metadata": {
        "id": "WxeEFuANdoZQ",
        "colab_type": "text"
      },
      "source": [
        "**Transform Json to DataFrame and export to CSV file**"
      ]
    },
    {
      "cell_type": "code",
      "metadata": {
        "id": "0B1HDPGido0k",
        "colab_type": "code",
        "colab": {}
      },
      "source": [
        "df = pd.DataFrame({\n",
        "    'tweet_id': tweet.tweet_id, \n",
        "    'text': tweet.text,  \n",
        "    'tweet_url': tweet.tweet_url,\n",
        "    'retweets': tweet.retweets,\n",
        "    'replies': tweet.replies,\n",
        "    'is_replied': tweet.is_replied,\n",
        "    'is_reply_to': tweet.is_reply_to,\n",
        "    'user_id': tweet.user_id, \n",
        "    'created_at': tweet.timestamp\n",
        "} for tweet in tweets)\n",
        "\n",
        "df.to_csv('tweets.csv', encoding='utf-8')"
      ],
      "execution_count": 38,
      "outputs": []
    },
    {
      "cell_type": "markdown",
      "metadata": {
        "id": "Xf-B19NsJLJP",
        "colab_type": "text"
      },
      "source": [
        "**Printing found tweets**"
      ]
    },
    {
      "cell_type": "code",
      "metadata": {
        "id": "x2dI6Q2SbYbP",
        "colab_type": "code",
        "colab": {
          "base_uri": "https://localhost:8080/",
          "height": 204
        },
        "outputId": "134f6f62-782d-46a6-f01c-e0294ee37ca4"
      },
      "source": [
        "df.head()"
      ],
      "execution_count": 39,
      "outputs": [
        {
          "output_type": "execute_result",
          "data": {
            "text/html": [
              "<div>\n",
              "<style scoped>\n",
              "    .dataframe tbody tr th:only-of-type {\n",
              "        vertical-align: middle;\n",
              "    }\n",
              "\n",
              "    .dataframe tbody tr th {\n",
              "        vertical-align: top;\n",
              "    }\n",
              "\n",
              "    .dataframe thead th {\n",
              "        text-align: right;\n",
              "    }\n",
              "</style>\n",
              "<table border=\"1\" class=\"dataframe\">\n",
              "  <thead>\n",
              "    <tr style=\"text-align: right;\">\n",
              "      <th></th>\n",
              "      <th>tweet_id</th>\n",
              "      <th>text</th>\n",
              "      <th>tweet_url</th>\n",
              "      <th>retweets</th>\n",
              "      <th>replies</th>\n",
              "      <th>is_replied</th>\n",
              "      <th>is_reply_to</th>\n",
              "      <th>user_id</th>\n",
              "      <th>created_at</th>\n",
              "    </tr>\n",
              "  </thead>\n",
              "  <tbody>\n",
              "    <tr>\n",
              "      <th>0</th>\n",
              "      <td>1212523890540462082</td>\n",
              "      <td>Esse eu vou dá tchau pra vida de festa, tá bom?</td>\n",
              "      <td>/NetoMiguel02/status/1212523890540462082</td>\n",
              "      <td>0</td>\n",
              "      <td>0</td>\n",
              "      <td>False</td>\n",
              "      <td>False</td>\n",
              "      <td>1190617786294374400</td>\n",
              "      <td>2020-01-01 23:59:57</td>\n",
              "    </tr>\n",
              "    <tr>\n",
              "      <th>1</th>\n",
              "      <td>1212523890439786496</td>\n",
              "      <td>o quanto as coisas demoram p sair da minha cab...</td>\n",
              "      <td>/amandiiiix/status/1212523890439786496</td>\n",
              "      <td>0</td>\n",
              "      <td>0</td>\n",
              "      <td>False</td>\n",
              "      <td>False</td>\n",
              "      <td>1064533534109589504</td>\n",
              "      <td>2020-01-01 23:59:57</td>\n",
              "    </tr>\n",
              "    <tr>\n",
              "      <th>2</th>\n",
              "      <td>1212523879970885633</td>\n",
              "      <td>meu momento pós role sempre é baseado em pensa...</td>\n",
              "      <td>/inouesz/status/1212523879970885633</td>\n",
              "      <td>0</td>\n",
              "      <td>0</td>\n",
              "      <td>False</td>\n",
              "      <td>False</td>\n",
              "      <td>1046604175717601280</td>\n",
              "      <td>2020-01-01 23:59:55</td>\n",
              "    </tr>\n",
              "    <tr>\n",
              "      <th>3</th>\n",
              "      <td>1212523878477635584</td>\n",
              "      <td>Deu janeiro e eu quero sair do emprego eai kkk...</td>\n",
              "      <td>/Haile_Din/status/1212523878477635584</td>\n",
              "      <td>0</td>\n",
              "      <td>0</td>\n",
              "      <td>False</td>\n",
              "      <td>False</td>\n",
              "      <td>1032060705221083137</td>\n",
              "      <td>2020-01-01 23:59:54</td>\n",
              "    </tr>\n",
              "    <tr>\n",
              "      <th>4</th>\n",
              "      <td>1212523878230171648</td>\n",
              "      <td>o que vc diria?\\n\\n1- cuida dela pq ela é espe...</td>\n",
              "      <td>/Laura_Liiotta/status/1212523878230171648</td>\n",
              "      <td>0</td>\n",
              "      <td>0</td>\n",
              "      <td>False</td>\n",
              "      <td>False</td>\n",
              "      <td>723473031293743104</td>\n",
              "      <td>2020-01-01 23:59:54</td>\n",
              "    </tr>\n",
              "  </tbody>\n",
              "</table>\n",
              "</div>"
            ],
            "text/plain": [
              "              tweet_id  ...          created_at\n",
              "0  1212523890540462082  ... 2020-01-01 23:59:57\n",
              "1  1212523890439786496  ... 2020-01-01 23:59:57\n",
              "2  1212523879970885633  ... 2020-01-01 23:59:55\n",
              "3  1212523878477635584  ... 2020-01-01 23:59:54\n",
              "4  1212523878230171648  ... 2020-01-01 23:59:54\n",
              "\n",
              "[5 rows x 9 columns]"
            ]
          },
          "metadata": {
            "tags": []
          },
          "execution_count": 39
        }
      ]
    },
    {
      "cell_type": "markdown",
      "metadata": {
        "id": "HKPqylLAZ3PV",
        "colab_type": "text"
      },
      "source": [
        "**Open stored tweets from CSV file**"
      ]
    },
    {
      "cell_type": "code",
      "metadata": {
        "id": "78qAC2KDZ2fe",
        "colab_type": "code",
        "colab": {}
      },
      "source": [
        "# file = open('tweets.csv', encoding='utf-8').read()\n",
        "df = pd.read_csv('tweets.csv')\n"
      ],
      "execution_count": 100,
      "outputs": []
    },
    {
      "cell_type": "markdown",
      "metadata": {
        "id": "b7YH5a4VcR-B",
        "colab_type": "text"
      },
      "source": [
        "**Probably will need to make a translate from Portuguese to English**"
      ]
    },
    {
      "cell_type": "code",
      "metadata": {
        "id": "FUwmT1lscSev",
        "colab_type": "code",
        "colab": {
          "base_uri": "https://localhost:8080/",
          "height": 442
        },
        "outputId": "74f5bde1-aaf2-4c88-f2e2-f88b4a25dee6"
      },
      "source": [
        "tweets = df['text']\n",
        "total = len(tweets)\n",
        "translated_quantity = 0\n",
        "english_tweets = []\n",
        "\n",
        "print('{} [INFO] Starting tweet translation...'.format(dt.datetime.now()))\n",
        "for tweet in tweets:  \n",
        "  english_tweets.append(Translator().translate(unidecode(tweet)).text)\n",
        "  translated_quantity += 1\n",
        "  print('\\r{} [INFO] {} translated tweets of {} from Portuguese to English.'.format(dt.datetime.now(), translated_quantity, total), end='')\n",
        "\n",
        "#df['text'].apply([lambda tweet: ' '.join(Translator().translate(unidecode(text)).]text for text in tweet))\n",
        "df.insert(3, 'english_text', english_tweets)\n",
        "\n",
        "print('\\n{} [INFO] Tweet translation successfully!'.format(dt.datetime.now()))\n",
        "\n",
        "df.head()"
      ],
      "execution_count": 101,
      "outputs": [
        {
          "output_type": "stream",
          "text": [
            "2020-08-01 16:59:06.949221 [INFO] Starting tweet translation...\n",
            "2020-08-01 16:59:10.237234 [INFO] 20 translated tweets of 20 from Portuguese to English.\n",
            "2020-08-01 16:59:10.238878 [INFO] Tweet translation successfully!\n"
          ],
          "name": "stdout"
        },
        {
          "output_type": "execute_result",
          "data": {
            "text/html": [
              "<div>\n",
              "<style scoped>\n",
              "    .dataframe tbody tr th:only-of-type {\n",
              "        vertical-align: middle;\n",
              "    }\n",
              "\n",
              "    .dataframe tbody tr th {\n",
              "        vertical-align: top;\n",
              "    }\n",
              "\n",
              "    .dataframe thead th {\n",
              "        text-align: right;\n",
              "    }\n",
              "</style>\n",
              "<table border=\"1\" class=\"dataframe\">\n",
              "  <thead>\n",
              "    <tr style=\"text-align: right;\">\n",
              "      <th></th>\n",
              "      <th>Unnamed: 0</th>\n",
              "      <th>tweet_id</th>\n",
              "      <th>text</th>\n",
              "      <th>english_text</th>\n",
              "      <th>tweet_url</th>\n",
              "      <th>retweets</th>\n",
              "      <th>replies</th>\n",
              "      <th>is_replied</th>\n",
              "      <th>is_reply_to</th>\n",
              "      <th>user_id</th>\n",
              "      <th>created_at</th>\n",
              "    </tr>\n",
              "  </thead>\n",
              "  <tbody>\n",
              "    <tr>\n",
              "      <th>0</th>\n",
              "      <td>0</td>\n",
              "      <td>1212523890540462082</td>\n",
              "      <td>Esse eu vou dá tchau pra vida de festa, tá bom?</td>\n",
              "      <td>This one I go bye to party life, okay?</td>\n",
              "      <td>/NetoMiguel02/status/1212523890540462082</td>\n",
              "      <td>0</td>\n",
              "      <td>0</td>\n",
              "      <td>False</td>\n",
              "      <td>False</td>\n",
              "      <td>1190617786294374400</td>\n",
              "      <td>2020-01-01 23:59:57</td>\n",
              "    </tr>\n",
              "    <tr>\n",
              "      <th>1</th>\n",
              "      <td>1</td>\n",
              "      <td>1212523890439786496</td>\n",
              "      <td>o quanto as coisas demoram p sair da minha cab...</td>\n",
              "      <td>how long things take to get out of my head is ...</td>\n",
              "      <td>/amandiiiix/status/1212523890439786496</td>\n",
              "      <td>0</td>\n",
              "      <td>0</td>\n",
              "      <td>False</td>\n",
              "      <td>False</td>\n",
              "      <td>1064533534109589504</td>\n",
              "      <td>2020-01-01 23:59:57</td>\n",
              "    </tr>\n",
              "    <tr>\n",
              "      <th>2</th>\n",
              "      <td>2</td>\n",
              "      <td>1212523879970885633</td>\n",
              "      <td>meu momento pós role sempre é baseado em pensa...</td>\n",
              "      <td>my moment can always be based on thinking abou...</td>\n",
              "      <td>/inouesz/status/1212523879970885633</td>\n",
              "      <td>0</td>\n",
              "      <td>0</td>\n",
              "      <td>False</td>\n",
              "      <td>False</td>\n",
              "      <td>1046604175717601280</td>\n",
              "      <td>2020-01-01 23:59:55</td>\n",
              "    </tr>\n",
              "    <tr>\n",
              "      <th>3</th>\n",
              "      <td>3</td>\n",
              "      <td>1212523878477635584</td>\n",
              "      <td>Deu janeiro e eu quero sair do emprego eai kkk...</td>\n",
              "      <td>It was January and I want to quit my job kkkkk...</td>\n",
              "      <td>/Haile_Din/status/1212523878477635584</td>\n",
              "      <td>0</td>\n",
              "      <td>0</td>\n",
              "      <td>False</td>\n",
              "      <td>False</td>\n",
              "      <td>1032060705221083137</td>\n",
              "      <td>2020-01-01 23:59:54</td>\n",
              "    </tr>\n",
              "    <tr>\n",
              "      <th>4</th>\n",
              "      <td>4</td>\n",
              "      <td>1212523878230171648</td>\n",
              "      <td>o que vc diria?\\n\\n1- cuida dela pq ela é espe...</td>\n",
              "      <td>what would you say?\\n\\n1- take care of her bec...</td>\n",
              "      <td>/Laura_Liiotta/status/1212523878230171648</td>\n",
              "      <td>0</td>\n",
              "      <td>0</td>\n",
              "      <td>False</td>\n",
              "      <td>False</td>\n",
              "      <td>723473031293743104</td>\n",
              "      <td>2020-01-01 23:59:54</td>\n",
              "    </tr>\n",
              "  </tbody>\n",
              "</table>\n",
              "</div>"
            ],
            "text/plain": [
              "   Unnamed: 0             tweet_id  ...              user_id           created_at\n",
              "0           0  1212523890540462082  ...  1190617786294374400  2020-01-01 23:59:57\n",
              "1           1  1212523890439786496  ...  1064533534109589504  2020-01-01 23:59:57\n",
              "2           2  1212523879970885633  ...  1046604175717601280  2020-01-01 23:59:55\n",
              "3           3  1212523878477635584  ...  1032060705221083137  2020-01-01 23:59:54\n",
              "4           4  1212523878230171648  ...   723473031293743104  2020-01-01 23:59:54\n",
              "\n",
              "[5 rows x 11 columns]"
            ]
          },
          "metadata": {
            "tags": []
          },
          "execution_count": 101
        }
      ]
    },
    {
      "cell_type": "markdown",
      "metadata": {
        "id": "FQ92bhg6VDuz",
        "colab_type": "text"
      },
      "source": [
        "**Data preprocessing**\n",
        "\n",
        "This process is used to preprocess the tweet text:\n",
        "\n",
        " - Tokenize words;\n",
        " - Remove all stop words; \n",
        " - Punctuaction rules; \n",
        " - Unused characters;\n",
        " - Links from tweets."
      ]
    },
    {
      "cell_type": "code",
      "metadata": {
        "id": "1z3s-jZIVEGS",
        "colab_type": "code",
        "colab": {
          "base_uri": "https://localhost:8080/",
          "height": 408
        },
        "outputId": "b8a50402-c7e1-453f-85ba-516adfe36f8e"
      },
      "source": [
        "# Converting to lowercase\n",
        "tweets = df.english_text.str.lower()\n",
        "\n",
        "# Removing punctuation rules\n",
        "tweets = tweets.str.translate(str.maketrans('', '', string.punctuation))\n",
        "\n",
        "# Removing unused links\n",
        "tweets = tweets.str.replace(r\"(http|@)\\S+\", \"\")\n",
        "\n",
        "# Remove special chars\n",
        "tweets = tweets.apply(demojize)\n",
        "tweets = tweets.str.replace(r\"::\", \": :\")\n",
        "tweets = tweets.str.replace(r\"’\", \"'\")\n",
        "tweets = tweets.str.replace(r\"[^a-z\\':_]\", \" \")\n",
        "\n",
        "# Remove repetitions\n",
        "pattern = re.compile(r\"(.)\\1{2,}\", re.DOTALL)\n",
        "tweets = tweets.str.replace(pattern, r\"\\1\")\n",
        "\n",
        "# Transform short negation form\n",
        "tweets = tweets.str.replace(r\"(can't|cannot)\", 'can not')\n",
        "tweets = tweets.str.replace(r\"n't\", ' not')\n",
        "\n",
        "# Spliting text into words\n",
        "# tweets = word_tokenize(tweets, 'english')\n",
        "\n",
        "# Removing stop words\n",
        "nltk.download('stopwords')\n",
        "stopwords = stopwords.words('english')\n",
        "stopwords.remove('not')\n",
        "stopwords.remove('nor')\n",
        "stopwords.remove('no')\n",
        "\n",
        "tweets.apply(\n",
        "    lambda tweet: ' '.join([word for word in tweet.split() if word not in stopwords])\n",
        ")"
      ],
      "execution_count": 105,
      "outputs": [
        {
          "output_type": "stream",
          "text": [
            "[nltk_data] Downloading package stopwords to /root/nltk_data...\n",
            "[nltk_data]   Package stopwords is already up-to-date!\n"
          ],
          "name": "stdout"
        },
        {
          "output_type": "execute_result",
          "data": {
            "text/plain": [
              "0                            one go bye party life okay\n",
              "1                long things take get head unbelievable\n",
              "2     moment always based thinking story im going te...\n",
              "3                               january want quit job k\n",
              "4     would say take care special stick ass ask dscl...\n",
              "5                     mark role chic best goes straight\n",
              "6     last role isas house pictwittercom epxqizxqo p...\n",
              "7     dont want call snap fingers anything go otaria...\n",
              "8        month birthday already planning surprise party\n",
              "9         go parties playlist agr party hot minus songs\n",
              "10    afraid judged leaving room la girl eats sleeps...\n",
              "11                      many pictures coming shit great\n",
              "12    found best party game ever check pictwittercom...\n",
              "13                                        yes bore role\n",
              "14    c knows partners birthday deg january candy no...\n",
              "15    year cried bus cried classroom cried riding bi...\n",
              "16                           hair beautiful ill even go\n",
              "17                                 want know first role\n",
              "18                         best role always towards end\n",
              "19                sadness new year not days celebration\n",
              "Name: english_text, dtype: object"
            ]
          },
          "metadata": {
            "tags": []
          },
          "execution_count": 105
        }
      ]
    }
  ]
}